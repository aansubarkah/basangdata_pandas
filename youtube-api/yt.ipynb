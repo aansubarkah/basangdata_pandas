{
 "cells": [
  {
   "cell_type": "markdown",
   "metadata": {},
   "source": [
    "# Instalasi Library"
   ]
  },
  {
   "cell_type": "code",
   "execution_count": 1,
   "metadata": {},
   "outputs": [
    {
     "name": "stdout",
     "output_type": "stream",
     "text": [
      "Collecting google-api-python-client\n",
      "  Downloading google_api_python_client-1.8.2-py3-none-any.whl (58 kB)\n",
      "\u001b[K     |████████████████████████████████| 58 kB 811 kB/s eta 0:00:01\n",
      "\u001b[?25hCollecting google-auth-httplib2>=0.0.3\n",
      "  Downloading google_auth_httplib2-0.0.3-py2.py3-none-any.whl (6.3 kB)\n",
      "Collecting google-auth>=1.4.1\n",
      "  Downloading google_auth-1.14.3-py2.py3-none-any.whl (89 kB)\n",
      "\u001b[K     |████████████████████████████████| 89 kB 2.1 MB/s eta 0:00:011\n",
      "\u001b[?25hCollecting uritemplate<4dev,>=3.0.0\n",
      "  Downloading uritemplate-3.0.1-py2.py3-none-any.whl (15 kB)\n",
      "Collecting google-api-core<2dev,>=1.13.0\n",
      "  Downloading google_api_core-1.17.0-py2.py3-none-any.whl (70 kB)\n",
      "\u001b[K     |████████████████████████████████| 70 kB 3.3 MB/s eta 0:00:01\n",
      "\u001b[?25hCollecting httplib2<1dev,>=0.9.2\n",
      "  Downloading httplib2-0.17.3-py3-none-any.whl (95 kB)\n",
      "\u001b[K     |████████████████████████████████| 95 kB 4.0 MB/s eta 0:00:011\n",
      "\u001b[?25hRequirement already satisfied, skipping upgrade: six<2dev,>=1.6.1 in /Users/aansubarkah/opt/anaconda3/envs/basangdata/lib/python3.7/site-packages (from google-api-python-client) (1.14.0)\n",
      "Requirement already satisfied, skipping upgrade: setuptools>=40.3.0 in /Users/aansubarkah/opt/anaconda3/envs/basangdata/lib/python3.7/site-packages (from google-auth>=1.4.1->google-api-python-client) (46.1.3.post20200330)\n",
      "Collecting pyasn1-modules>=0.2.1\n",
      "  Using cached pyasn1_modules-0.2.8-py2.py3-none-any.whl (155 kB)\n",
      "Collecting rsa<4.1,>=3.1.4\n",
      "  Downloading rsa-4.0-py2.py3-none-any.whl (38 kB)\n",
      "Collecting cachetools<5.0,>=2.0.0\n",
      "  Downloading cachetools-4.1.0-py3-none-any.whl (10 kB)\n",
      "Requirement already satisfied, skipping upgrade: requests<3.0.0dev,>=2.18.0 in /Users/aansubarkah/opt/anaconda3/envs/basangdata/lib/python3.7/site-packages (from google-api-core<2dev,>=1.13.0->google-api-python-client) (2.23.0)\n",
      "Requirement already satisfied, skipping upgrade: pytz in /Users/aansubarkah/opt/anaconda3/envs/basangdata/lib/python3.7/site-packages (from google-api-core<2dev,>=1.13.0->google-api-python-client) (2019.3)\n",
      "Collecting googleapis-common-protos<2.0dev,>=1.6.0\n",
      "  Downloading googleapis-common-protos-1.51.0.tar.gz (35 kB)\n",
      "Collecting protobuf>=3.4.0\n",
      "  Downloading protobuf-3.11.3-cp37-cp37m-macosx_10_9_x86_64.whl (1.3 MB)\n",
      "\u001b[K     |████████████████████████████████| 1.3 MB 4.8 MB/s eta 0:00:01\n",
      "\u001b[?25hCollecting pyasn1<0.5.0,>=0.4.6\n",
      "  Using cached pyasn1-0.4.8-py2.py3-none-any.whl (77 kB)\n",
      "Requirement already satisfied, skipping upgrade: idna<3,>=2.5 in /Users/aansubarkah/opt/anaconda3/envs/basangdata/lib/python3.7/site-packages (from requests<3.0.0dev,>=2.18.0->google-api-core<2dev,>=1.13.0->google-api-python-client) (2.9)\n",
      "Requirement already satisfied, skipping upgrade: chardet<4,>=3.0.2 in /Users/aansubarkah/opt/anaconda3/envs/basangdata/lib/python3.7/site-packages (from requests<3.0.0dev,>=2.18.0->google-api-core<2dev,>=1.13.0->google-api-python-client) (3.0.4)\n",
      "Requirement already satisfied, skipping upgrade: urllib3!=1.25.0,!=1.25.1,<1.26,>=1.21.1 in /Users/aansubarkah/opt/anaconda3/envs/basangdata/lib/python3.7/site-packages (from requests<3.0.0dev,>=2.18.0->google-api-core<2dev,>=1.13.0->google-api-python-client) (1.25.9)\n",
      "Requirement already satisfied, skipping upgrade: certifi>=2017.4.17 in /Users/aansubarkah/opt/anaconda3/envs/basangdata/lib/python3.7/site-packages (from requests<3.0.0dev,>=2.18.0->google-api-core<2dev,>=1.13.0->google-api-python-client) (2020.4.5.1)\n",
      "Building wheels for collected packages: googleapis-common-protos\n",
      "  Building wheel for googleapis-common-protos (setup.py) ... \u001b[?25ldone\n",
      "\u001b[?25h  Created wheel for googleapis-common-protos: filename=googleapis_common_protos-1.51.0-py3-none-any.whl size=77592 sha256=6358be0abfb81387b47563a4b7b61609fbc60d7689dea8f69bf6cec398460be7\n",
      "  Stored in directory: /Users/aansubarkah/Library/Caches/pip/wheels/4c/a1/71/5e427276ceeff277fd76878d1b19fbf4587a2845015d86864b\n",
      "Successfully built googleapis-common-protos\n",
      "Installing collected packages: pyasn1, pyasn1-modules, rsa, cachetools, google-auth, httplib2, google-auth-httplib2, uritemplate, protobuf, googleapis-common-protos, google-api-core, google-api-python-client\n",
      "Successfully installed cachetools-4.1.0 google-api-core-1.17.0 google-api-python-client-1.8.2 google-auth-1.14.3 google-auth-httplib2-0.0.3 googleapis-common-protos-1.51.0 httplib2-0.17.3 protobuf-3.11.3 pyasn1-0.4.8 pyasn1-modules-0.2.8 rsa-4.0 uritemplate-3.0.1\n"
     ]
    }
   ],
   "source": [
    "!pip install --upgrade google-api-python-client"
   ]
  },
  {
   "cell_type": "code",
   "execution_count": 2,
   "metadata": {},
   "outputs": [
    {
     "name": "stdout",
     "output_type": "stream",
     "text": [
      "Collecting google-auth-oauthlib\n",
      "  Downloading google_auth_oauthlib-0.4.1-py2.py3-none-any.whl (18 kB)\n",
      "Requirement already up-to-date: google-auth-httplib2 in /Users/aansubarkah/opt/anaconda3/envs/basangdata/lib/python3.7/site-packages (0.0.3)\n",
      "Requirement already satisfied, skipping upgrade: google-auth in /Users/aansubarkah/opt/anaconda3/envs/basangdata/lib/python3.7/site-packages (from google-auth-oauthlib) (1.14.3)\n",
      "Requirement already satisfied, skipping upgrade: requests-oauthlib>=0.7.0 in /Users/aansubarkah/opt/anaconda3/envs/basangdata/lib/python3.7/site-packages (from google-auth-oauthlib) (1.3.0)\n",
      "Requirement already satisfied, skipping upgrade: httplib2>=0.9.1 in /Users/aansubarkah/opt/anaconda3/envs/basangdata/lib/python3.7/site-packages (from google-auth-httplib2) (0.17.3)\n",
      "Requirement already satisfied, skipping upgrade: rsa<4.1,>=3.1.4 in /Users/aansubarkah/opt/anaconda3/envs/basangdata/lib/python3.7/site-packages (from google-auth->google-auth-oauthlib) (4.0)\n",
      "Requirement already satisfied, skipping upgrade: cachetools<5.0,>=2.0.0 in /Users/aansubarkah/opt/anaconda3/envs/basangdata/lib/python3.7/site-packages (from google-auth->google-auth-oauthlib) (4.1.0)\n",
      "Requirement already satisfied, skipping upgrade: pyasn1-modules>=0.2.1 in /Users/aansubarkah/opt/anaconda3/envs/basangdata/lib/python3.7/site-packages (from google-auth->google-auth-oauthlib) (0.2.8)\n",
      "Requirement already satisfied, skipping upgrade: six>=1.9.0 in /Users/aansubarkah/opt/anaconda3/envs/basangdata/lib/python3.7/site-packages (from google-auth->google-auth-oauthlib) (1.14.0)\n",
      "Requirement already satisfied, skipping upgrade: setuptools>=40.3.0 in /Users/aansubarkah/opt/anaconda3/envs/basangdata/lib/python3.7/site-packages (from google-auth->google-auth-oauthlib) (46.1.3.post20200330)\n",
      "Requirement already satisfied, skipping upgrade: oauthlib>=3.0.0 in /Users/aansubarkah/opt/anaconda3/envs/basangdata/lib/python3.7/site-packages (from requests-oauthlib>=0.7.0->google-auth-oauthlib) (3.1.0)\n",
      "Requirement already satisfied, skipping upgrade: requests>=2.0.0 in /Users/aansubarkah/opt/anaconda3/envs/basangdata/lib/python3.7/site-packages (from requests-oauthlib>=0.7.0->google-auth-oauthlib) (2.23.0)\n",
      "Requirement already satisfied, skipping upgrade: pyasn1>=0.1.3 in /Users/aansubarkah/opt/anaconda3/envs/basangdata/lib/python3.7/site-packages (from rsa<4.1,>=3.1.4->google-auth->google-auth-oauthlib) (0.4.8)\n",
      "Requirement already satisfied, skipping upgrade: chardet<4,>=3.0.2 in /Users/aansubarkah/opt/anaconda3/envs/basangdata/lib/python3.7/site-packages (from requests>=2.0.0->requests-oauthlib>=0.7.0->google-auth-oauthlib) (3.0.4)\n",
      "Requirement already satisfied, skipping upgrade: idna<3,>=2.5 in /Users/aansubarkah/opt/anaconda3/envs/basangdata/lib/python3.7/site-packages (from requests>=2.0.0->requests-oauthlib>=0.7.0->google-auth-oauthlib) (2.9)\n",
      "Requirement already satisfied, skipping upgrade: certifi>=2017.4.17 in /Users/aansubarkah/opt/anaconda3/envs/basangdata/lib/python3.7/site-packages (from requests>=2.0.0->requests-oauthlib>=0.7.0->google-auth-oauthlib) (2020.4.5.1)\n",
      "Requirement already satisfied, skipping upgrade: urllib3!=1.25.0,!=1.25.1,<1.26,>=1.21.1 in /Users/aansubarkah/opt/anaconda3/envs/basangdata/lib/python3.7/site-packages (from requests>=2.0.0->requests-oauthlib>=0.7.0->google-auth-oauthlib) (1.25.9)\n",
      "Installing collected packages: google-auth-oauthlib\n",
      "Successfully installed google-auth-oauthlib-0.4.1\n"
     ]
    }
   ],
   "source": [
    "!pip install --upgrade google-auth-oauthlib google-auth-httplib2"
   ]
  },
  {
   "cell_type": "code",
   "execution_count": null,
   "metadata": {},
   "outputs": [],
   "source": []
  },
  {
   "cell_type": "code",
   "execution_count": null,
   "metadata": {},
   "outputs": [],
   "source": [
    "#AI
   ]
  },
  {
   "cell_type": "code",
   "execution_count": null,
   "metadata": {},
   "outputs": [],
   "source": []
  },
  {
   "cell_type": "code",
   "execution_count": null,
   "metadata": {},
   "outputs": [],
   "source": []
  }
 ],
 "metadata": {
  "kernelspec": {
   "display_name": "Python 3",
   "language": "python",
   "name": "python3"
  },
  "language_info": {
   "codemirror_mode": {
    "name": "ipython",
    "version": 3
   },
   "file_extension": ".py",
   "mimetype": "text/x-python",
   "name": "python",
   "nbconvert_exporter": "python",
   "pygments_lexer": "ipython3",
   "version": "3.7.7"
  }
 },
 "nbformat": 4,
 "nbformat_minor": 4
}
