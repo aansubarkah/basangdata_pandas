{
 "cells": [
  {
   "cell_type": "markdown",
   "metadata": {},
   "source": [
    "# Instalasi Paket"
   ]
  },
  {
   "cell_type": "code",
   "execution_count": 84,
   "metadata": {},
   "outputs": [],
   "source": [
    "#!pip install tweepy\n",
    "#!pip install textblob"
   ]
  },
  {
   "cell_type": "markdown",
   "metadata": {},
   "source": [
    "# Download Punkt"
   ]
  },
  {
   "cell_type": "code",
   "execution_count": 85,
   "metadata": {},
   "outputs": [],
   "source": [
    "#import nltk\n",
    "#nltk.download('punkt')"
   ]
  },
  {
   "cell_type": "markdown",
   "metadata": {},
   "source": [
    "# Ambil Twit"
   ]
  },
  {
   "cell_type": "code",
   "execution_count": 2,
   "metadata": {},
   "outputs": [],
   "source": [
    "import tweepy"
   ]
  },
  {
   "cell_type": "code",
   "execution_count": 29,
   "metadata": {},
   "outputs": [],
   "source": [
    "topic = 'mudik'"
   ]
  },
  {
   "cell_type": "code",
   "execution_count": 27,
   "metadata": {},
   "outputs": [],
   "source": [
    "consumer_key  = 'API Key dari Twitter'\n",
    "consumer_secret = 'API secret key'\n",
    "auth = tweepy.AppAuthHandler(consumer_key, consumer_secret)\n",
    "api = tweepy.API(auth)"
   ]
  },
  {
   "cell_type": "code",
   "execution_count": null,
   "metadata": {},
   "outputs": [],
   "source": [
    "data = []\n",
    "for tweet in tweepy.Cursor(api.search, q=topic).items(200):\n",
    "    status = api.get_status(tweet.id, tweet_mode='extended')\n",
    "    try:\n",
    "        text = status.retweeted_status.full_text\n",
    "    except AttributeError:\n",
    "        text = status.full_text\n",
    "    data.append([text, 1])"
   ]
  },
  {
   "cell_type": "markdown",
   "metadata": {},
   "source": [
    "# Simpan sebagai csv"
   ]
  },
  {
   "cell_type": "code",
   "execution_count": 3,
   "metadata": {},
   "outputs": [],
   "source": [
    "import csv"
   ]
  },
  {
   "cell_type": "code",
   "execution_count": null,
   "metadata": {},
   "outputs": [],
   "source": [
    "with open('tweet.csv', 'w') as csvfile:\n",
    "    wr = csv.writer(csvfile)\n",
    "    for d in data:\n",
    "        wr.writerow(d)"
   ]
  },
  {
   "cell_type": "markdown",
   "metadata": {},
   "source": [
    "# Ambil twit yang sudah diberi label"
   ]
  },
  {
   "cell_type": "code",
   "execution_count": 4,
   "metadata": {},
   "outputs": [],
   "source": [
    "labeled_tweet = []\n",
    "with open('labeled.csv', 'r') as csvfile:\n",
    "    cf = csv.reader(csvfile)\n",
    "    for row in cf:\n",
    "        labeled_tweet.append(row)"
   ]
  },
  {
   "cell_type": "markdown",
   "metadata": {},
   "source": [
    "# Pisahkan twit positif dan negatif"
   ]
  },
  {
   "cell_type": "code",
   "execution_count": 5,
   "metadata": {},
   "outputs": [],
   "source": [
    "pos = []\n",
    "neg = []\n",
    "\n",
    "for l in labeled_tweet:\n",
    "    if l[1] == '1':\n",
    "        pos.append((l[0], 1))\n",
    "    else:\n",
    "        neg.append((l[0], 0))"
   ]
  },
  {
   "cell_type": "markdown",
   "metadata": {},
   "source": [
    "# Banyak masing-masing data"
   ]
  },
  {
   "cell_type": "code",
   "execution_count": 6,
   "metadata": {},
   "outputs": [
    {
     "data": {
      "text/plain": [
       "(98, 102)"
      ]
     },
     "execution_count": 6,
     "metadata": {},
     "output_type": "execute_result"
    }
   ],
   "source": [
    "len(pos), len(neg)"
   ]
  },
  {
   "cell_type": "markdown",
   "metadata": {},
   "source": [
    "# Ambil masing-masing opini sebanyak 75 sebagai data train dan 20 sebagai data test"
   ]
  },
  {
   "cell_type": "code",
   "execution_count": 7,
   "metadata": {},
   "outputs": [],
   "source": [
    "pos_train = pos[:75]\n",
    "pos_test = pos[-20:]\n",
    "neg_train = neg[:75]\n",
    "neg_test = neg[-20:]"
   ]
  },
  {
   "cell_type": "code",
   "execution_count": 8,
   "metadata": {},
   "outputs": [
    {
     "data": {
      "text/plain": [
       "(75, 20, 75, 20)"
      ]
     },
     "execution_count": 8,
     "metadata": {},
     "output_type": "execute_result"
    }
   ],
   "source": [
    "len(pos_train), len(pos_test), len(neg_train), len(neg_test)"
   ]
  },
  {
   "cell_type": "markdown",
   "metadata": {},
   "source": [
    "# Gabung data train dan data test"
   ]
  },
  {
   "cell_type": "code",
   "execution_count": 9,
   "metadata": {},
   "outputs": [],
   "source": [
    "train = pos_train + neg_train\n",
    "test = pos_test + neg_train"
   ]
  },
  {
   "cell_type": "markdown",
   "metadata": {},
   "source": [
    "# Buat Model"
   ]
  },
  {
   "cell_type": "code",
   "execution_count": 10,
   "metadata": {},
   "outputs": [],
   "source": [
    "from textblob.classifiers import NaiveBayesClassifier"
   ]
  },
  {
   "cell_type": "code",
   "execution_count": 11,
   "metadata": {},
   "outputs": [],
   "source": [
    "cl = NaiveBayesClassifier(train)"
   ]
  },
  {
   "cell_type": "markdown",
   "metadata": {},
   "source": [
    "# Uji Model pada data test"
   ]
  },
  {
   "cell_type": "code",
   "execution_count": 12,
   "metadata": {},
   "outputs": [
    {
     "name": "stdout",
     "output_type": "stream",
     "text": [
      "Banyak yg dri kmren nafsu ingin bully Jokowi karena perkataan soal Mudik dan pulang kampung.\n",
      "\n",
      "Tapi sayang, setelah mereka buka KBBI dan diperkuat oleh penjelasan ahli linguistik (Guru besar UI), secara otomatis bullian mereka telah menampar muka sendiri. https://t.co/dlm9RAJmUw |------> 1\n",
      "Pulkam itu sifatnya parsial, dilakukan dlm waktu berbeda, jadi pemantauannya lbh mudah di msg2 daerah asal.\n",
      "\n",
      "Mudik itu sifatnya simultan, dilakukan dlm waktu yg sama dan biasanya dlm jumlah besar. Pemda sulit memantau di daerah asal.\n",
      "\n",
      "Sederhana gini sebenarnya, apa yg diributkan? |------> 1\n",
      "@Janfri_75 @CommuterLine KAJJ kan udh mulai gaboleh beroperasi karna gaboleh mudik. tmbahin keberangkatannya dong min untuk jalur biru (Bekasi/Cikarang) biar bisa lebih maksimal min.. |------> 0\n",
      "@adekurniawaw Bang aji lagi mudik atau pulang kampung? |------> 0\n",
      "Dari Jokowi soal mudik dan kampung halaman ---- [ ucapan prabowo soal saksi jokowi + penangkapan ravio patra ] \n",
      "\n",
      "Ada rangkaian upaya tuk menghambat arus informasi terkait ketidaksukaan publik kpd  pmrt jokowi\n",
      "\n",
      "Issu dimainkn soal rencana penjarahan 30 april [Pola playing victim] |------> 1\n",
      "Larangan Mudik, Jumlah Kendaraan Keluar Jakarta Malah Naik Tajam - https://t.co/n4jucq5l9J  https://t.co/7JeKqShdyn |------> 0\n",
      "@MaEsKimMa @lattemacchiatow @tubirfess saya sependapat sama pemerintah kok, kan katanya sekarang udah resmi gak boleh pulang kampung/mudik lagi |------> 1\n",
      "Ada banyak orang yg susah bedain,\n",
      "\n",
      "Mudik dan Pulkam\n",
      "Oplas dan digebukin\n",
      "Kabur dan Umroh\n",
      "\n",
      "Tapi mereka sangat paham apa itu,\n",
      "\n",
      "Nasi bungkus dan nasi kotak.. |------> 1\n",
      "Kejam sekali meme ini, padahal saya sudah jelaskan beda Mudik dengan Pulang Kampung, terutama soal tradisinya. Mudik itu tradisi yg dilakukan saat perayaan lebaran. Pulang kampung itu kapan sj dan tanpa moment tertentu yang dirayakan bersama.\n",
      "\n",
      "Dulu sy ketipu sih..! 😂😂 https://t.co/YUGk8hkhTl |------> 0\n",
      "Aparat Gabungan Berjaga di 58 Titik Jalur Mudik\n",
      "https://t.co/RCrzo2vn4v |------> 0\n",
      "Kementerian Perhubungan sudah menggarap Peraturan Menteri untuk penanganan transportasi apabila mudik dilarang. Apa saja? #LaranganMudik \n",
      "\n",
      "via @detikfinance https://t.co/tf4R7shTXI |------> 0\n",
      "Dalam rangka mendukung pemerintah dalam program larangan mudik 2020, Bandara APT. Pranoto Samarinda melakukan penghentian sementara penerbangan komersil dan charter mulai tanggal 24 April 2020 - 1 Juni 2020 https://t.co/eAIWEYPt2z |------> 1\n",
      "Fix ya sdh dilarang &amp; ada permenhub nya. Ini utk kebaikan bersama seluruh rakyat Indonesia agar wabah cepat berakhir dgn tdk memperluas penyebarannya, salah satu nya dgn tidak mudik di Hari Raya Lebaran thn ini.\n",
      "\n",
      "#StopMudikCekalCorona\n",
      "#DirumahSaja\n",
      "\n",
      "https://t.co/lLxSwqIW5L |------> 1\n",
      "Terhitung tgl 24.4.2020 mudik di larang https://t.co/QsfLfTPHUQ |------> 0\n",
      "Beda mudik dan Pulang Kampung itu seperti beda operasi plastik dan digebukin.\n",
      "\n",
      "Atau seperti beda umroh dan buron.\n",
      "\n",
      "Sekilas kayaknya sama, tetapi sesungguhnya jauh berbeda... |------> 0\n",
      "Sebentar lagi bisa mudik lebaran :) Aamiin https://t.co/X2emIzjL8S |------> 0\n",
      "Beda \"Pulang Kampung\" vs \"Mudik\".\n",
      "\n",
      "Pulang kampung: orang2 yg bermasalah secara ekonomi, ga ada lg pekerjaan di kota. Mereka kmdn pulang ke kampung.\n",
      "\n",
      "Mudik: orang2 yg pulang pd saat hari raya, tdk ada mslh secara ekonomi. Mrk biasanya bawa keluarga/rombongan dan niat kembali lg. https://t.co/rVmx4I2vYw |------> 1\n",
      "@Janfri_75 @CommuterLine KAJJ kan udh mulai gaboleh beroperasi karna gaboleh mudik. tmbahin keberangkatannya dong min untuk jalur biru (Bekasi/Cikarang) biar bisa lebih maksimal min.. |------> 0\n",
      "@orping8387 @gadisresidu_b3 Tidak semua mengacu pada arti pulang kampung dan mudik aslinya, mereka bilang apa bedanya mudik dan pulang kampungpun mengacu pada arti sama sama pulang ke kampung baik mudik atw pulkam |------> 0\n",
      "Bebas deh istilahnya mau apa aja. Mudik kek. Pulang kampung kek. Yang penting lu pada taat jaga diri.\n",
      "\n",
      "Jangan sampe balik jakarta malah bawa virus dari kampung. Tambah masalah. Makin kaga kelar-kelar ini perkara!\n",
      "\n",
      "https://t.co/C4t4defxxL |------> 0\n",
      "@M4ngU5il @jokowi Please lah, mudik itu beda dengan pulang kampung.\n",
      "Seperti ngutang itu beda dengan pinjam uang.\n",
      "Catat itu kisanak!!! 😎 |------> 0\n",
      "Suka suka pak penghulu mau mudik ke...mau pulang kampung ke...yang penting Makan. https://t.co/3bB4bkKlmq |------> 0\n",
      "@tian_pra Sama, ga iso mudik kering disini |------> 0\n",
      "Hasil tangkapan layar Wikipedia Bahasa Indonesia. Lihatlah kelakuan para buzzeRp yang berkali2 berusaha mengubah definisi \"mudik\", menghilangkan frasa \"pulang kampung\" demi bayaran untuk membela kedunguan. @mas__piyuuu @AdhieMassardi @Mardigu_WP @MardaniAliSera https://t.co/113DlldZno |------> 0\n",
      "@DivHumas_Polri @ChristWamea izin saran pak, biasanya mudik itu mulainya H-7 (ditandai dengan kebijakan Kemenhub ttg pengaturan penggunaan Tol) dan bukan H-30, mungkin yang dimaksud tsb adalah larangan pulang kampung. terimakasih |------> 0\n",
      "@detikcom Makanya klo mudik ato pulang kampung th ini  harus bawa tulisan pulang kampung...biar gak disuruh balik...ingat jgn bilang mudik |------> 0\n",
      "TERCYDUK! Presiden @Jokowi Gunakan \"Pulang Kampung\" dan \"Mudik\" dalam Arti Yang Sama, Kok Sekarang Bilang Beda? https://t.co/6aGaFgmjHl\n",
      "\n",
      "cc @NajwaShihab @MataNajwa https://t.co/yqFSRTbNMV |------> 0\n",
      "Orang-orang pd sibuk mikir apa bedanya ‘mudik’ dan ‘pulang kampung’.\n",
      "Tapi coba pertanyaannya dbalik; apa dua istilah/diksi yang tepat utk membedakan “pulang dalam rangka lebaran” dengan “pulang di waktu-waktu lain”? Kalau mencari definisi tinggal buka KBBI, mencari diksi drmana? |------> 0\n",
      "https://t.co/9fT3eyeixO\n",
      "\n",
      "Presiden Jokowi mengatakan mudik berbeda dengan pulang kampung. Bila kita menengok Kamus Besar Bahasa Indonesia (KBBI), maka arti mudik adalah pulang kampung. |------> 0\n",
      "MUDIK  itu tradisi sedangkan PULANG KAMPUNG itu sekedar KEBIASAAN. Namun, KEBIASAAN PULANG KAMPUNG menjelang Hari Raya itu disebut MUDIK.\n",
      "\n",
      "Konklusi:\n",
      "MUDIK itu bagian dari KEBIASAAN PULANG KAMPUNG yang sudah menjadi TRADISI.\n",
      "\n",
      "RUWET...!\n",
      "RUWET...!\n",
      "RUWET...! |------> 0\n",
      "TERCYDUK! Presiden @Jokowi Gunakan \"Pulang Kampung\" dan \"Mudik\" dalam Arti Yang Sama, Kok Sekarang Bilang Beda? https://t.co/6aGaFgmjHl\n",
      "\n",
      "cc @NajwaShihab @MataNajwa https://t.co/yqFSRTbNMV |------> 0\n",
      "@BadanBahasa Aamiin....ga mudik, Min? |------> 0\n",
      "Baru kali ini mikirin perbedaan mudik sama pulang kampung🙃 |------> 0\n",
      "@mas__piyuuu @jokowi @NajwaShihab @MataNajwa #MudikBukanPulangKampung #MudikvsPulangKampung #Mudik |------> 0\n",
      "Akhirnye bang opik kumis yg bisa mecahin teka teki soal mudik atau pulang kampung https://t.co/5C1gG9puEu |------> 0\n",
      "Pulang kampung' boleh,  mudik' jangan.  Seukeudar mengingatkhan https://t.co/roLqYxo5gl |------> 0\n",
      "Tweeps,\n",
      "Meski ada yg mempermasalahkan penulisan Mudik &amp; Pulang Kampung secara bersamaan &amp; dlm Makna yg sama di Akun FB-nya pak @jokowi (28/06/17) lalu ini,\n",
      "Bagi saya itu biarlah \"Yg di-Atas\" yg menilainya.\n",
      "Saya lebih suka tertawa nonton Cuplikan Adegan Sinetron tadi, ha-3x ... 🤣 https://t.co/5dG9dyVjQP https://t.co/iWp1X1sg11 |------> 0\n",
      "@DivHumas_Polri @ChristWamea Tenang bos org\" gak akan mudik plg cuman plg kampung jd polisi gak perlu repot jaga dijalan kayak dulu\" |------> 0\n",
      "@jokowi Jujur gue masih bingung, mau mudik apa pulang kampung. |------> 0\n",
      "Hasil tangkapan layar Wikipedia Bahasa Indonesia. Lihatlah kelakuan para buzzeRp yang berkali2 berusaha mengubah definisi \"mudik\", menghilangkan frasa \"pulang kampung\" demi bayaran untuk membela kedunguan. @mas__piyuuu @AdhieMassardi @Mardigu_WP @MardaniAliSera https://t.co/113DlldZno |------> 0\n",
      "@RadioElshinta @hk_jorrs Sesudah larangan mudik. Larangan keluar rumah untuk beli makan dan ambil uang di atm. Dan mati lah seluruh rakyat indonesia dengan tenang . Salam corona🙏🙏🙏🤬 |------> 0\n",
      "Jadi, bagaimana konsep @Dennysiregar7 @PartaiSocmed @eko_kuntadhi @GunRomli dan @yusuf_dumdum soal Pulang Kampung dan Mudik? Apakah kalian setuju dgn konsep Presiden, atau malah tidak setuju? (Ditunggu Pendapatnya). |------> 0\n",
      "Ane banyak dapet curhatan dari laskar, mreka pekerja buruh musiman ataw istilah kerennya Kuproy, kalo kgak boleh pulang kampung mreka bakal lebih susah di Kota.\n",
      "Proyek sudah dihentikan mreka kgak ada pemasukan,\n",
      "Biarken saja mreka pulang kampung tapi kamu jangan mudik..Pa'am ya https://t.co/anIyVSp6y8 |------> 0\n",
      "Sama kayak mudik-pulang kampung, ada bedanya ges https://t.co/XKGX2UgUKK |------> 0\n",
      "@TeddyGusnaidi @NajwaShihab @jokowi Yg gagap tangani pencegahan penyebaran virus Cina, akhirnya hanya membuat perbedaan antara mudik dn pulkam.. \n",
      "\n",
      "Miris!! |------> 0\n",
      "Makin banyak yg ditangkap-tangkapi, semoga tidak mengganggu program physical distancing, atau ini adlh cara cegah Mudik @jokowi ? |------> 0\n",
      "Blundernya Diksi Mudik dan Pulang Kampung Persfektif Komunikasi Pemerintahan https://t.co/cLADsyfdhN |------> 0\n",
      "Ane banyak dapet curhatan dari laskar, mreka pekerja buruh musiman ataw istilah kerennya Kuproy, kalo kgak boleh pulang kampung mreka bakal lebih susah di Kota.\n",
      "Proyek sudah dihentikan mreka kgak ada pemasukan,\n",
      "Biarken saja mreka pulang kampung tapi kamu jangan mudik..Pa'am ya https://t.co/anIyVSp6y8 |------> 0\n",
      "Kira2 share kayak gini batalin puasa apa endak???\n",
      "Trus kayak ada yng bisikin \" kalo tujuannya edukasi biar orang2 tau arti mudik gpp bos\"\n",
      "Akhirnya gasken..... https://t.co/tONRufjflc |------> 0\n",
      "@tribunnews Sesudah larangan mudik. Larangan keluar rumah untuk beli makan dan ambil uang di atm. Dan mati lah seluruh rakyat indonesia dengan tenang . Salam corona🙏🙏🙏🤬 |------> 0\n",
      "Tahun 2017 pada saat Idul Fitri arti PULANG KAMPUNG dan Mudik sama. Pada tahun 2020 saat Idul Fitri bersamaan dengan serangan wabah virus corona menurut bpk presiden arti PULANG KAMPUNG dan MUDIK berbeda. Akhirnya dilarang Mudik tapi PULANG KAMPUNG tidak dilarang. Luar biasa...! https://t.co/97T90ZeUqD |------> 0\n",
      "Demi membela idolanya, mereka rela membuat definisi yg rumit seperti ini. Padahal oh padahal... 🤣🤣🤣\n",
      "\n",
      "NB: Jangan lupa tonton video parodi Mudik vs Pulang Kampung di https://t.co/FCu4BNgtoi https://t.co/OyWnFvvY1g |------> 0\n",
      "Sebut Mudik dan Pulang Kampung Beda di @MataNajwa, @Jokowi Ketampol Videonya Sendiri...\n",
      "\n",
      "👉30 Maret saat Ratas Kabinet, Jokowi: \"Untuk warga yg sudah terlanjur MUDIK...\"\n",
      "\n",
      "Padahal belum Lebaran.. tp disebut \"mudik\" oleh Jokowi\n",
      "\n",
      "BEDA omongannya di MataNajwa\n",
      "\n",
      "https://t.co/M5cDzXNIj4 https://t.co/P5k8qiduZS |------> 0\n",
      "Sebut Mudik dan Pulang Kampung Beda di @MataNajwa, @Jokowi Ketampol Videonya Sendiri...\n",
      "\n",
      "👉30 Maret saat Ratas Kabinet, Jokowi: \"Untuk warga yg sudah terlanjur MUDIK...\"\n",
      "\n",
      "Padahal belum Lebaran.. tp disebut \"mudik\" oleh Jokowi\n",
      "\n",
      "BEDA omongannya di MataNajwa\n",
      "\n",
      "https://t.co/M5cDzXNIj4 https://t.co/P5k8qiduZS |------> 0\n",
      "Orang2 yang bertepuk tangan dengan istilah rumah lapis, bukan rumah susun.\n",
      "\n",
      "Naturalisasi bukan normalisasi.\n",
      "\n",
      "DP0% bukan DP 0 rupiah\n",
      "\n",
      "Kini sibuk meributkan pulang kampung dan mudik.\n",
      "\n",
      "Mereka memang selalu melihat masalah dengan meributkan kata-kata. Bukan pada pelaksanaan! |------> 0\n",
      "Hasil tangkapan layar Wikipedia Bahasa Indonesia. Lihatlah kelakuan para buzzeRp yang berkali2 berusaha mengubah definisi \"mudik\", menghilangkan frasa \"pulang kampung\" demi bayaran untuk membela kedunguan. @mas__piyuuu @AdhieMassardi @Mardigu_WP @MardaniAliSera https://t.co/113DlldZno |------> 0\n",
      "Hasil tangkapan layar Wikipedia Bahasa Indonesia. Lihatlah kelakuan para buzzeRp yang berkali2 berusaha mengubah definisi \"mudik\", menghilangkan frasa \"pulang kampung\" demi bayaran untuk membela kedunguan. @mas__piyuuu @AdhieMassardi @Mardigu_WP @MardaniAliSera https://t.co/113DlldZno |------> 0\n",
      "Dilarang mudik oleh pemerintah akhirnya para pemudik terpaksa memilih pulang kampung.\n",
      "\n",
      "Gitu aja koq repot, pungkas pemudik. |------> 0\n",
      "Data kemenhub mengatakan sudah hampir 1juta orang sudah curi start mudik. Menurut Presiden @Jokowi, itu bukan mudik, tapi pulang kampung. Apa bedanya?\n",
      "\n",
      "#MataNajwaJokowiDiujiPandemi https://t.co/KKG6ZDraUm |------> 0\n",
      "Ketika kamu ikut berbusa2 menjelaskan perbedaan mudik dan pulang kampung maka percayalah kamu sudah jadi badut! |------> 0\n",
      "Selamat berpuasa perantau yang tak boleh mudik tapi boleh pulang kampung. |------> 0\n",
      "Itu bukan mudik tapi pulang kampung 😷\n",
      "\n",
      "Mudik Dilarang, Lonjakan Penumpang Terjadi di Terminal Tanjung Priok\n",
      "\n",
      "#RezimTanpaSolusi\n",
      "#RezimTanpaSolusi\n",
      " https://t.co/5tshu3DVAk via @idtodayco |------> 0\n",
      "Hasil tangkapan layar Wikipedia Bahasa Indonesia. Lihatlah kelakuan para buzzeRp yang berkali2 berusaha mengubah definisi \"mudik\", menghilangkan frasa \"pulang kampung\" demi bayaran untuk membela kedunguan. @mas__piyuuu @AdhieMassardi @Mardigu_WP @MardaniAliSera https://t.co/113DlldZno |------> 0\n",
      "@jokowi 30 Maret. Lebaran masih jauh. \n",
      "Mudik atau PulKam neh?\n",
      "\n",
      "Btw. Pembiaran 14.000an orang nyebar dr Jbdtbk ke berbagai wil itu termasuk strategi pembiaran ala militer dr negara yg susah duit kah? |------> 0\n",
      "Pak @jokowi rancu soal mudik dan pulang kampung. Namun, banyak yang jadi ahli bahasa dadakan, maka\n",
      "\n",
      "BNPB membenarkan\n",
      "Wamendes membenarkan\n",
      "BuzzeRp membenarkan\n",
      "Wikipedia dibengkokkan\n",
      "\n",
      "Ahli bahasa bersikukuh, tetap salah. https://t.co/Pw3KuA5AS8 |------> 0\n",
      "Makin banyak yg ditangkap-tangkapi, semoga tidak mengganggu program physical distancing, atau ini adlh cara cegah Mudik @jokowi ? |------> 0\n",
      "Kekonyolan yang berbuah kecerdasan rakyat menghindari larangan mudik https://t.co/5wmmGOxNcd |------> 0\n",
      "Boleh juga, anak kampus sering pulkam bukan mudik. https://t.co/0ZtifK3RpN |------> 0\n",
      "Percakapan makan malam :\n",
      "🙍‍♀️ : Hun, mudik sama pulang kampung menurutmu sama atau beda?\n",
      "🙎‍♂️ : Bedalah! Mudik itu misalnya home base Jakarta - balik salatiga terus balik Jakarta lagi. Kalau pulang kampung, misalnya abis kerja di Jakarta pulang Salatiga, ga balik lagi ke Jakarta. |------> 0\n",
      "Akhirnye bang opik kumis yg bisa mecahin teka teki soal mudik atau pulang kampung https://t.co/5C1gG9puEu |------> 0\n",
      "@RadioElshinta Tempel kertas depan motor / mobil, Pulang Kampung, Bukan Mudik !!! 😂😂😂 |------> 0\n",
      "Mudik TIDAK boleh \n",
      "Pulang kampung BOLEH |------> 0\n",
      "@TedyMoel1 @haris_azhar @jokowi Sak karepmu lah sik ngartekno... Intinya  bikin pembelaan supaya gak siram muka sendiri.... Dari sejak jaman kuno madjenun, tak ada masalah, antra pulkam dan mudik, tapi baru kali ini jadi di beda-bedahin gara-gara si dia dan si cantik... 🙏 |------> 0\n",
      "@leonitanovianti Ga boleh mudik yg boleh pulang kampung aja :'(( |------> 0\n",
      "Sudahlah Tweeps selamatkan skoci masing dan jangan banyak berharap soal penyakit dan obat2an Covid-19 yang sangat super komplex kalau Menko dan Presiden sulit membedakan antara: \n",
      "\n",
      "                                      Mudik-Pulkam |------> 0\n",
      "Pak Walkot Gimana Siih Beliau Ga Mudik Kog Pak Cuma Pulang Kampung Doang, Jangan Gitu Lah Pak Masa Mo Pulang Kampung Dilarang .. Oh Iyaa Tolong Kalo Beliau Sdh Pulang Kampung Jangan Balik Lagi Ke Jakarta Selamanya  Ya Paak Kasian Pak Jakarta Red Zone 🙈\n",
      "\n",
      "https://t.co/Ml8hBN2hSP |------> 0\n",
      "@CNNIndonesia Bukan mudik min, mereka itu pulang kampung.. |------> 0\n",
      "Kekonyolan yang berbuah kecerdasan rakyat menghindari larangan mudik https://t.co/5wmmGOxNcd |------> 0\n",
      "Jansen: Itu Ilmu Baru dari Pemimpin Tertinggi... Bego nya 🙊 https://t.co/L4pt9vcYgp lewat @idtodayco |------> 0\n",
      "@Deden22154567 @felixsiauw @jokowi supaya tolol nya ga dinlihatin ke umum...\n",
      "Beda Mudik dan Pulang Kampung Menurut Ahli Bahasa UI.\n",
      "Ahli bahasa sampai ikutan.🤭\n",
      "https://t.co/BJPVKK5yZP |------> 0\n",
      "Sudahlah Tweeps selamatkan skoci masing dan jangan banyak berharap soal penyakit dan obat2an Covid-19 yang sangat super komplex kalau Menko dan Presiden sulit membedakan antara: \n",
      "\n",
      "                                      Mudik-Pulkam |------> 0\n",
      "Data kemenhub mengatakan sudah hampir 1juta orang sudah curi start mudik. Menurut Presiden @Jokowi, itu bukan mudik, tapi pulang kampung. Apa bedanya?\n",
      "\n",
      "#MataNajwaJokowiDiujiPandemi https://t.co/KKG6ZDraUm |------> 0\n",
      "Makin banyak yg ditangkap-tangkapi, semoga tidak mengganggu program physical distancing, atau ini adlh cara cegah Mudik @jokowi ? |------> 0\n",
      "100 Juta! \n",
      "Yang satu denda buat koruptor, yang satu denda buat yang nekad mudik (bukan pulang kampung) \n",
      "(Bagian yg dikotakin) \n",
      "\n",
      "Cukup segitu aja ya captionnya. \n",
      "Sudah bisa nilai dan komen sendiri2 lah. https://t.co/Gsgz0fQsGL |------> 0\n",
      "Hasil tangkapan layar Wikipedia Bahasa Indonesia. Lihatlah kelakuan para buzzeRp yang berkali2 berusaha mengubah definisi \"mudik\", menghilangkan frasa \"pulang kampung\" demi bayaran untuk membela kedunguan. @mas__piyuuu @AdhieMassardi @Mardigu_WP @MardaniAliSera https://t.co/113DlldZno |------> 0\n",
      "Hasil tangkapan layar Wikipedia Bahasa Indonesia. Lihatlah kelakuan para buzzeRp yang berkali2 berusaha mengubah definisi \"mudik\", menghilangkan frasa \"pulang kampung\" demi bayaran untuk membela kedunguan. @mas__piyuuu @AdhieMassardi @Mardigu_WP @MardaniAliSera https://t.co/113DlldZno |------> 0\n",
      "Data kemenhub mengatakan sudah hampir 1juta orang sudah curi start mudik. Menurut Presiden @Jokowi, itu bukan mudik, tapi pulang kampung. Apa bedanya?\n",
      "\n",
      "#MataNajwaJokowiDiujiPandemi https://t.co/KKG6ZDraUm |------> 0\n",
      "...Jokowi: Itu bukan mudik tapi pulang kampung\n",
      "\n",
      "Najwa: Apa bedanya antara mudik dan pulang kampung, pak?\n",
      "\n",
      "Jokowi: Mudik itu pas lebarannya.\n",
      "\n",
      "OK, mantap pak @jokowi !! Pertahankan!! \n",
      "\n",
      "HAHAHAHAHAHAHAHAHAHAHAHAHAHAHAHAHAHAHAHAHAHAHA.... (``,)\n",
      "\n",
      "https://t.co/bStkA85qzJ |------> 0\n",
      "\"Mudik gaboleh pulang kampung boleh\"😃😃😃 |------> 0\n",
      "Kalian yang lagi mgerantau jangan mudik, kalau bisa pulang kampung aja |------> 0\n",
      "Soal mudik dan pulang kampung ini kelihatannya akan jd pernyataan legend berikutnya. Apalagi jika dikaitkan dgn corona berarti yg satu nyebar virus yg satunya lagi tidak. Selamat utk seluruh masyarakat Indonesia krn telah mendapat ilmu baru dan itu langsung dr pemimpin tertinggi. |------> 0\n",
      "Makin banyak yg ditangkap-tangkapi, semoga tidak mengganggu program physical distancing, atau ini adlh cara cegah Mudik @jokowi ? |------> 0\n",
      "https://t.co/2YlgWTJaDe\n",
      "Pak @jokowi ini pak Luhut kemarin bahas MUDIK diperbolehkan. Tapi dihimbau tidak PULANG KAMPUNG.\n",
      "Ruwet, kan pak...?\n",
      "Apa sih MUDIK dan Apa itu PULANG KAMPUNG? |------> 0\n",
      "sya menangis tak bisa mudik |------> 0\n",
      "Sudahlah Tweeps selamatkan skoci masing dan jangan banyak berharap soal penyakit dan obat2an Covid-19 yang sangat super komplex kalau Menko dan Presiden sulit membedakan antara: \n",
      "\n",
      "                                      Mudik-Pulkam |------> 0\n"
     ]
    }
   ],
   "source": [
    "for t in test:\n",
    "    print(t[0], '|------>', cl.classify(t[0]))"
   ]
  },
  {
   "cell_type": "markdown",
   "metadata": {},
   "source": [
    "# Akurasi Model yang dibuat"
   ]
  },
  {
   "cell_type": "code",
   "execution_count": 13,
   "metadata": {},
   "outputs": [
    {
     "data": {
      "text/plain": [
       "0.8736842105263158"
      ]
     },
     "execution_count": 13,
     "metadata": {},
     "output_type": "execute_result"
    }
   ],
   "source": [
    "cl.accuracy(test)"
   ]
  },
  {
   "cell_type": "markdown",
   "metadata": {},
   "source": [
    "# Uji pada data live"
   ]
  },
  {
   "cell_type": "code",
   "execution_count": 34,
   "metadata": {},
   "outputs": [
    {
     "name": "stdout",
     "output_type": "stream",
     "text": [
      "Clear ya.., yang bicara Prof. Dr. Rahayu Surtiati Hidayat, ahli bahasa dari Universitas Indonesia. Bukan kaum kaleng-kalengan dan recehan..🍮\n",
      "\n",
      "https://t.co/zHaO7aL7rG |-----> 0\n",
      "Gaboleh mudik tapi pulang kampung boleh |-----> 0\n",
      "Penerbangan Mudik di Zona PSBB-Merah Dilarang, Kualanamu Tetap Beroperasi https://t.co/lKSMEKyENo https://t.co/2rHO7e8J5h |-----> 0\n",
      "7.Artikel ini ringan dan mungkin tidak penting. Namun siapa tahu ada kadrun yang gagal paham dan membully Presiden Jokowi karena istilah mudik dan pulang kampung. Jadi anda bisa dengan mudah bisa mengcounternya. |-----> 1\n",
      "Masih belum paham beda mudik dan pulang kampung? Ahli bahasa dari Universitas Indonesia memberikan penjelasan soal pernyataan Presiden Jokowi yang viral itu. https://t.co/jEZpR4Rc6Y |-----> 1\n",
      "Kementerian Perhubungan menghentikan seluruh operasional kapal laut yang mengangkut penumpang mulai 24 April 2020 hingga 8 Juni 2020 selama aturan larangan mudik diberlakukan. \n",
      "\n",
      "LIVE !! Direktur Lalu Lintas dan Angkutan Laut Dirjen Perhuhungan Laut (Hubla) Wisnu Handoko https://t.co/DVNs6Pksgc |-----> 1\n",
      "Hasil tangkapan layar Wikipedia Bahasa Indonesia. Lihatlah kelakuan para buzzeRp yang berkali2 berusaha mengubah definisi \"mudik\", menghilangkan frasa \"pulang kampung\" demi bayaran untuk membela kedunguan. @mas__piyuuu @AdhieMassardi @Mardigu_WP @MardaniAliSera https://t.co/113DlldZno |-----> 0\n",
      "@laa_lloronaaa @CNNIndonesia Dalam situasi kayak gini begituan dibuat candaan. Emang rakyat +62 itu susah buat taat aturan. Maaf cuma orang cerdas saja yg paham mudik &amp; pulang kampung dalam kondisi seperti ini |-----> 0\n",
      "Biar orang2 ga pulang kampung/mudik/apapun dah sebutannya, selain dilarang, mungkin bisa jg ditambah alternatif spt harga sembako yg diturunin drastis dgn subsidi, atau pemenuhan kebutuhan pokok seluruh warga (universal jgn targeted) selama sebulan. \n",
      "\n",
      "Mungkin terlalu utopis ya. |-----> 0\n",
      "Kementerian Perhubungan menghentikan seluruh operasional kapal laut yang mengangkut penumpang mulai 24 April 2020 hingga 8 Juni 2020 selama aturan larangan mudik diberlakukan.  https://t.co/SIQG9y1ltU |-----> 1\n"
     ]
    }
   ],
   "source": [
    "for tweet in tweepy.Cursor(api.search, q=topic).items(10):\n",
    "    status = api.get_status(tweet.id, tweet_mode='extended')\n",
    "    try:\n",
    "        text = status.retweeted_status.full_text\n",
    "    except AttributeError:\n",
    "        text = status.full_text\n",
    "        \n",
    "    print(text, '|----->', cl.classify(text))"
   ]
  },
  {
   "cell_type": "code",
   "execution_count": null,
   "metadata": {},
   "outputs": [],
   "source": []
  },
  {
   "cell_type": "code",
   "execution_count": null,
   "metadata": {},
   "outputs": [],
   "source": []
  },
  {
   "cell_type": "code",
   "execution_count": null,
   "metadata": {},
   "outputs": [],
   "source": []
  }
 ],
 "metadata": {
  "kernelspec": {
   "display_name": "Python 3",
   "language": "python",
   "name": "python3"
  },
  "language_info": {
   "codemirror_mode": {
    "name": "ipython",
    "version": 3
   },
   "file_extension": ".py",
   "mimetype": "text/x-python",
   "name": "python",
   "nbconvert_exporter": "python",
   "pygments_lexer": "ipython3",
   "version": "3.7.7"
  }
 },
 "nbformat": 4,
 "nbformat_minor": 4
}
