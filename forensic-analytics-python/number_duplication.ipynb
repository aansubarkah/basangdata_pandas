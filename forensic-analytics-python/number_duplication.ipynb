{
 "cells": [
  {
   "cell_type": "markdown",
   "metadata": {},
   "source": [
    "# Load library"
   ]
  },
  {
   "cell_type": "code",
   "execution_count": 1,
   "metadata": {},
   "outputs": [],
   "source": [
    "import pandas as pd\n",
    "\n",
    "pd.options.display.float_format = '{:,.2f}'.format"
   ]
  },
  {
   "cell_type": "markdown",
   "metadata": {},
   "source": [
    "# Load Data"
   ]
  },
  {
   "cell_type": "code",
   "execution_count": 2,
   "metadata": {},
   "outputs": [],
   "source": [
    "df = pd.read_excel('Chapter4_Figure4pt4_DataOnly.xlsx')"
   ]
  },
  {
   "cell_type": "code",
   "execution_count": 3,
   "metadata": {},
   "outputs": [
    {
     "output_type": "execute_result",
     "data": {
      "text/plain": "            ID  VendorNum       Date        InvNum  Amount\n0            1       2001 2010-01-01       4242J10   25.19\n1            2       2001 2010-01-01       7899J10   25.86\n2            3       2001 2010-01-01       3830J10   26.57\n3            4       2001 2010-01-01       9514J10   27.83\n4            5       2001 2010-01-01       6296J10   28.09\n...        ...        ...        ...           ...     ...\n189465  189466      52935 2010-07-01  270221266736   33.46\n189466  189467      52936 2010-07-01  270348386110   61.52\n189467  189468      52937 2010-02-01  271253401514   12.36\n189468  189469      52938 2010-02-01  261715090450    8.02\n189469  189470      52939 2010-02-01  270241460335   16.30\n\n[189470 rows x 5 columns]",
      "text/html": "<div>\n<style scoped>\n    .dataframe tbody tr th:only-of-type {\n        vertical-align: middle;\n    }\n\n    .dataframe tbody tr th {\n        vertical-align: top;\n    }\n\n    .dataframe thead th {\n        text-align: right;\n    }\n</style>\n<table border=\"1\" class=\"dataframe\">\n  <thead>\n    <tr style=\"text-align: right;\">\n      <th></th>\n      <th>ID</th>\n      <th>VendorNum</th>\n      <th>Date</th>\n      <th>InvNum</th>\n      <th>Amount</th>\n    </tr>\n  </thead>\n  <tbody>\n    <tr>\n      <th>0</th>\n      <td>1</td>\n      <td>2001</td>\n      <td>2010-01-01</td>\n      <td>4242J10</td>\n      <td>25.19</td>\n    </tr>\n    <tr>\n      <th>1</th>\n      <td>2</td>\n      <td>2001</td>\n      <td>2010-01-01</td>\n      <td>7899J10</td>\n      <td>25.86</td>\n    </tr>\n    <tr>\n      <th>2</th>\n      <td>3</td>\n      <td>2001</td>\n      <td>2010-01-01</td>\n      <td>3830J10</td>\n      <td>26.57</td>\n    </tr>\n    <tr>\n      <th>3</th>\n      <td>4</td>\n      <td>2001</td>\n      <td>2010-01-01</td>\n      <td>9514J10</td>\n      <td>27.83</td>\n    </tr>\n    <tr>\n      <th>4</th>\n      <td>5</td>\n      <td>2001</td>\n      <td>2010-01-01</td>\n      <td>6296J10</td>\n      <td>28.09</td>\n    </tr>\n    <tr>\n      <th>...</th>\n      <td>...</td>\n      <td>...</td>\n      <td>...</td>\n      <td>...</td>\n      <td>...</td>\n    </tr>\n    <tr>\n      <th>189465</th>\n      <td>189466</td>\n      <td>52935</td>\n      <td>2010-07-01</td>\n      <td>270221266736</td>\n      <td>33.46</td>\n    </tr>\n    <tr>\n      <th>189466</th>\n      <td>189467</td>\n      <td>52936</td>\n      <td>2010-07-01</td>\n      <td>270348386110</td>\n      <td>61.52</td>\n    </tr>\n    <tr>\n      <th>189467</th>\n      <td>189468</td>\n      <td>52937</td>\n      <td>2010-02-01</td>\n      <td>271253401514</td>\n      <td>12.36</td>\n    </tr>\n    <tr>\n      <th>189468</th>\n      <td>189469</td>\n      <td>52938</td>\n      <td>2010-02-01</td>\n      <td>261715090450</td>\n      <td>8.02</td>\n    </tr>\n    <tr>\n      <th>189469</th>\n      <td>189470</td>\n      <td>52939</td>\n      <td>2010-02-01</td>\n      <td>270241460335</td>\n      <td>16.30</td>\n    </tr>\n  </tbody>\n</table>\n<p>189470 rows × 5 columns</p>\n</div>"
     },
     "metadata": {},
     "execution_count": 3
    }
   ],
   "source": [
    "df"
   ]
  },
  {
   "cell_type": "markdown",
   "metadata": {},
   "source": [
    "# Large Number"
   ]
  },
  {
   "cell_type": "code",
   "execution_count": 4,
   "metadata": {},
   "outputs": [],
   "source": [
    "largenumber = df[df['Amount']>= 10][['ID', 'Amount']]"
   ]
  },
  {
   "cell_type": "code",
   "execution_count": 5,
   "metadata": {},
   "outputs": [
    {
     "output_type": "execute_result",
     "data": {
      "text/plain": "            ID  Amount\n0            1   25.19\n1            2   25.86\n2            3   26.57\n3            4   27.83\n4            5   28.09\n...        ...     ...\n189464  189465   11.88\n189465  189466   33.46\n189466  189467   61.52\n189467  189468   12.36\n189469  189470   16.30\n\n[177763 rows x 2 columns]",
      "text/html": "<div>\n<style scoped>\n    .dataframe tbody tr th:only-of-type {\n        vertical-align: middle;\n    }\n\n    .dataframe tbody tr th {\n        vertical-align: top;\n    }\n\n    .dataframe thead th {\n        text-align: right;\n    }\n</style>\n<table border=\"1\" class=\"dataframe\">\n  <thead>\n    <tr style=\"text-align: right;\">\n      <th></th>\n      <th>ID</th>\n      <th>Amount</th>\n    </tr>\n  </thead>\n  <tbody>\n    <tr>\n      <th>0</th>\n      <td>1</td>\n      <td>25.19</td>\n    </tr>\n    <tr>\n      <th>1</th>\n      <td>2</td>\n      <td>25.86</td>\n    </tr>\n    <tr>\n      <th>2</th>\n      <td>3</td>\n      <td>26.57</td>\n    </tr>\n    <tr>\n      <th>3</th>\n      <td>4</td>\n      <td>27.83</td>\n    </tr>\n    <tr>\n      <th>4</th>\n      <td>5</td>\n      <td>28.09</td>\n    </tr>\n    <tr>\n      <th>...</th>\n      <td>...</td>\n      <td>...</td>\n    </tr>\n    <tr>\n      <th>189464</th>\n      <td>189465</td>\n      <td>11.88</td>\n    </tr>\n    <tr>\n      <th>189465</th>\n      <td>189466</td>\n      <td>33.46</td>\n    </tr>\n    <tr>\n      <th>189466</th>\n      <td>189467</td>\n      <td>61.52</td>\n    </tr>\n    <tr>\n      <th>189467</th>\n      <td>189468</td>\n      <td>12.36</td>\n    </tr>\n    <tr>\n      <th>189469</th>\n      <td>189470</td>\n      <td>16.30</td>\n    </tr>\n  </tbody>\n</table>\n<p>177763 rows × 2 columns</p>\n</div>"
     },
     "metadata": {},
     "execution_count": 5
    }
   ],
   "source": [
    "largenumber"
   ]
  },
  {
   "cell_type": "code",
   "execution_count": 6,
   "metadata": {},
   "outputs": [
    {
     "output_type": "execute_result",
     "data": {
      "text/plain": "             Amount   ID\n0             10.00  221\n1             10.01    3\n2             10.02    4\n3             10.03    7\n4             10.04    5\n...             ...  ...\n64574  3,069,846.95    1\n64575  5,990,958.38    1\n64576 14,495,142.32    1\n64577 15,779,215.20    1\n64578 26,763,475.78    1\n\n[64579 rows x 2 columns]",
      "text/html": "<div>\n<style scoped>\n    .dataframe tbody tr th:only-of-type {\n        vertical-align: middle;\n    }\n\n    .dataframe tbody tr th {\n        vertical-align: top;\n    }\n\n    .dataframe thead th {\n        text-align: right;\n    }\n</style>\n<table border=\"1\" class=\"dataframe\">\n  <thead>\n    <tr style=\"text-align: right;\">\n      <th></th>\n      <th>Amount</th>\n      <th>ID</th>\n    </tr>\n  </thead>\n  <tbody>\n    <tr>\n      <th>0</th>\n      <td>10.00</td>\n      <td>221</td>\n    </tr>\n    <tr>\n      <th>1</th>\n      <td>10.01</td>\n      <td>3</td>\n    </tr>\n    <tr>\n      <th>2</th>\n      <td>10.02</td>\n      <td>4</td>\n    </tr>\n    <tr>\n      <th>3</th>\n      <td>10.03</td>\n      <td>7</td>\n    </tr>\n    <tr>\n      <th>4</th>\n      <td>10.04</td>\n      <td>5</td>\n    </tr>\n    <tr>\n      <th>...</th>\n      <td>...</td>\n      <td>...</td>\n    </tr>\n    <tr>\n      <th>64574</th>\n      <td>3,069,846.95</td>\n      <td>1</td>\n    </tr>\n    <tr>\n      <th>64575</th>\n      <td>5,990,958.38</td>\n      <td>1</td>\n    </tr>\n    <tr>\n      <th>64576</th>\n      <td>14,495,142.32</td>\n      <td>1</td>\n    </tr>\n    <tr>\n      <th>64577</th>\n      <td>15,779,215.20</td>\n      <td>1</td>\n    </tr>\n    <tr>\n      <th>64578</th>\n      <td>26,763,475.78</td>\n      <td>1</td>\n    </tr>\n  </tbody>\n</table>\n<p>64579 rows × 2 columns</p>\n</div>"
     },
     "metadata": {},
     "execution_count": 6
    }
   ],
   "source": [
    "data = largenumber.groupby('Amount', as_index=False).count()\n",
    "data"
   ]
  },
  {
   "cell_type": "code",
   "execution_count": 7,
   "metadata": {},
   "outputs": [],
   "source": [
    "data.rename(columns={'ID': 'Count'}, inplace=True)"
   ]
  },
  {
   "cell_type": "code",
   "execution_count": 8,
   "metadata": {},
   "outputs": [
    {
     "output_type": "execute_result",
     "data": {
      "text/plain": "             Amount  Count\n0             10.00    221\n1             10.01      3\n2             10.02      4\n3             10.03      7\n4             10.04      5\n...             ...    ...\n64574  3,069,846.95      1\n64575  5,990,958.38      1\n64576 14,495,142.32      1\n64577 15,779,215.20      1\n64578 26,763,475.78      1\n\n[64579 rows x 2 columns]",
      "text/html": "<div>\n<style scoped>\n    .dataframe tbody tr th:only-of-type {\n        vertical-align: middle;\n    }\n\n    .dataframe tbody tr th {\n        vertical-align: top;\n    }\n\n    .dataframe thead th {\n        text-align: right;\n    }\n</style>\n<table border=\"1\" class=\"dataframe\">\n  <thead>\n    <tr style=\"text-align: right;\">\n      <th></th>\n      <th>Amount</th>\n      <th>Count</th>\n    </tr>\n  </thead>\n  <tbody>\n    <tr>\n      <th>0</th>\n      <td>10.00</td>\n      <td>221</td>\n    </tr>\n    <tr>\n      <th>1</th>\n      <td>10.01</td>\n      <td>3</td>\n    </tr>\n    <tr>\n      <th>2</th>\n      <td>10.02</td>\n      <td>4</td>\n    </tr>\n    <tr>\n      <th>3</th>\n      <td>10.03</td>\n      <td>7</td>\n    </tr>\n    <tr>\n      <th>4</th>\n      <td>10.04</td>\n      <td>5</td>\n    </tr>\n    <tr>\n      <th>...</th>\n      <td>...</td>\n      <td>...</td>\n    </tr>\n    <tr>\n      <th>64574</th>\n      <td>3,069,846.95</td>\n      <td>1</td>\n    </tr>\n    <tr>\n      <th>64575</th>\n      <td>5,990,958.38</td>\n      <td>1</td>\n    </tr>\n    <tr>\n      <th>64576</th>\n      <td>14,495,142.32</td>\n      <td>1</td>\n    </tr>\n    <tr>\n      <th>64577</th>\n      <td>15,779,215.20</td>\n      <td>1</td>\n    </tr>\n    <tr>\n      <th>64578</th>\n      <td>26,763,475.78</td>\n      <td>1</td>\n    </tr>\n  </tbody>\n</table>\n<p>64579 rows × 2 columns</p>\n</div>"
     },
     "metadata": {},
     "execution_count": 8
    }
   ],
   "source": [
    "data"
   ]
  },
  {
   "cell_type": "code",
   "execution_count": 9,
   "metadata": {},
   "outputs": [],
   "source": [
    "data.sort_values(by='Count', ascending=False, inplace=True)"
   ]
  },
  {
   "cell_type": "code",
   "execution_count": 10,
   "metadata": {},
   "outputs": [
    {
     "output_type": "execute_result",
     "data": {
      "text/plain": "             Amount  Count\n3832          50.00   6022\n41757      1,153.35   2264\n40959      1,083.45   1185\n12039        150.00   1056\n39720        988.35   1018\n...             ...    ...\n32284        606.39      1\n32286        606.41      1\n32287        606.47      1\n32290        606.78      1\n64578 26,763,475.78      1\n\n[64579 rows x 2 columns]",
      "text/html": "<div>\n<style scoped>\n    .dataframe tbody tr th:only-of-type {\n        vertical-align: middle;\n    }\n\n    .dataframe tbody tr th {\n        vertical-align: top;\n    }\n\n    .dataframe thead th {\n        text-align: right;\n    }\n</style>\n<table border=\"1\" class=\"dataframe\">\n  <thead>\n    <tr style=\"text-align: right;\">\n      <th></th>\n      <th>Amount</th>\n      <th>Count</th>\n    </tr>\n  </thead>\n  <tbody>\n    <tr>\n      <th>3832</th>\n      <td>50.00</td>\n      <td>6022</td>\n    </tr>\n    <tr>\n      <th>41757</th>\n      <td>1,153.35</td>\n      <td>2264</td>\n    </tr>\n    <tr>\n      <th>40959</th>\n      <td>1,083.45</td>\n      <td>1185</td>\n    </tr>\n    <tr>\n      <th>12039</th>\n      <td>150.00</td>\n      <td>1056</td>\n    </tr>\n    <tr>\n      <th>39720</th>\n      <td>988.35</td>\n      <td>1018</td>\n    </tr>\n    <tr>\n      <th>...</th>\n      <td>...</td>\n      <td>...</td>\n    </tr>\n    <tr>\n      <th>32284</th>\n      <td>606.39</td>\n      <td>1</td>\n    </tr>\n    <tr>\n      <th>32286</th>\n      <td>606.41</td>\n      <td>1</td>\n    </tr>\n    <tr>\n      <th>32287</th>\n      <td>606.47</td>\n      <td>1</td>\n    </tr>\n    <tr>\n      <th>32290</th>\n      <td>606.78</td>\n      <td>1</td>\n    </tr>\n    <tr>\n      <th>64578</th>\n      <td>26,763,475.78</td>\n      <td>1</td>\n    </tr>\n  </tbody>\n</table>\n<p>64579 rows × 2 columns</p>\n</div>"
     },
     "metadata": {},
     "execution_count": 10
    }
   ],
   "source": [
    "data"
   ]
  },
  {
   "cell_type": "code",
   "execution_count": 11,
   "metadata": {},
   "outputs": [
    {
     "output_type": "execute_result",
     "data": {
      "text/plain": "             Amount  Count  FirstTwo\n3832          50.00   6022        50\n41757      1,153.35   2264        11\n40959      1,083.45   1185        10\n12039        150.00   1056        15\n39720        988.35   1018        98\n...             ...    ...       ...\n32284        606.39      1        60\n32286        606.41      1        60\n32287        606.47      1        60\n32290        606.78      1        60\n64578 26,763,475.78      1        26\n\n[64579 rows x 3 columns]",
      "text/html": "<div>\n<style scoped>\n    .dataframe tbody tr th:only-of-type {\n        vertical-align: middle;\n    }\n\n    .dataframe tbody tr th {\n        vertical-align: top;\n    }\n\n    .dataframe thead th {\n        text-align: right;\n    }\n</style>\n<table border=\"1\" class=\"dataframe\">\n  <thead>\n    <tr style=\"text-align: right;\">\n      <th></th>\n      <th>Amount</th>\n      <th>Count</th>\n      <th>FirstTwo</th>\n    </tr>\n  </thead>\n  <tbody>\n    <tr>\n      <th>3832</th>\n      <td>50.00</td>\n      <td>6022</td>\n      <td>50</td>\n    </tr>\n    <tr>\n      <th>41757</th>\n      <td>1,153.35</td>\n      <td>2264</td>\n      <td>11</td>\n    </tr>\n    <tr>\n      <th>40959</th>\n      <td>1,083.45</td>\n      <td>1185</td>\n      <td>10</td>\n    </tr>\n    <tr>\n      <th>12039</th>\n      <td>150.00</td>\n      <td>1056</td>\n      <td>15</td>\n    </tr>\n    <tr>\n      <th>39720</th>\n      <td>988.35</td>\n      <td>1018</td>\n      <td>98</td>\n    </tr>\n    <tr>\n      <th>...</th>\n      <td>...</td>\n      <td>...</td>\n      <td>...</td>\n    </tr>\n    <tr>\n      <th>32284</th>\n      <td>606.39</td>\n      <td>1</td>\n      <td>60</td>\n    </tr>\n    <tr>\n      <th>32286</th>\n      <td>606.41</td>\n      <td>1</td>\n      <td>60</td>\n    </tr>\n    <tr>\n      <th>32287</th>\n      <td>606.47</td>\n      <td>1</td>\n      <td>60</td>\n    </tr>\n    <tr>\n      <th>32290</th>\n      <td>606.78</td>\n      <td>1</td>\n      <td>60</td>\n    </tr>\n    <tr>\n      <th>64578</th>\n      <td>26,763,475.78</td>\n      <td>1</td>\n      <td>26</td>\n    </tr>\n  </tbody>\n</table>\n<p>64579 rows × 3 columns</p>\n</div>"
     },
     "metadata": {},
     "execution_count": 11
    }
   ],
   "source": [
    "data['FirstTwo'] = data['Amount'].astype(str).str[:2].astype('int64')\n",
    "data"
   ]
  },
  {
   "cell_type": "code",
   "execution_count": 12,
   "metadata": {},
   "outputs": [
    {
     "output_type": "execute_result",
     "data": {
      "text/plain": "             Amount  Count  FirstTwo   Rank\n3832          50.00   6022        50      1\n41757      1,153.35   2264        11      2\n40959      1,083.45   1185        10      3\n12039        150.00   1056        15      4\n39720        988.35   1018        98      5\n...             ...    ...       ...    ...\n32284        606.39      1        60  64575\n32286        606.41      1        60  64576\n32287        606.47      1        60  64577\n32290        606.78      1        60  64578\n64578 26,763,475.78      1        26  64579\n\n[64579 rows x 4 columns]",
      "text/html": "<div>\n<style scoped>\n    .dataframe tbody tr th:only-of-type {\n        vertical-align: middle;\n    }\n\n    .dataframe tbody tr th {\n        vertical-align: top;\n    }\n\n    .dataframe thead th {\n        text-align: right;\n    }\n</style>\n<table border=\"1\" class=\"dataframe\">\n  <thead>\n    <tr style=\"text-align: right;\">\n      <th></th>\n      <th>Amount</th>\n      <th>Count</th>\n      <th>FirstTwo</th>\n      <th>Rank</th>\n    </tr>\n  </thead>\n  <tbody>\n    <tr>\n      <th>3832</th>\n      <td>50.00</td>\n      <td>6022</td>\n      <td>50</td>\n      <td>1</td>\n    </tr>\n    <tr>\n      <th>41757</th>\n      <td>1,153.35</td>\n      <td>2264</td>\n      <td>11</td>\n      <td>2</td>\n    </tr>\n    <tr>\n      <th>40959</th>\n      <td>1,083.45</td>\n      <td>1185</td>\n      <td>10</td>\n      <td>3</td>\n    </tr>\n    <tr>\n      <th>12039</th>\n      <td>150.00</td>\n      <td>1056</td>\n      <td>15</td>\n      <td>4</td>\n    </tr>\n    <tr>\n      <th>39720</th>\n      <td>988.35</td>\n      <td>1018</td>\n      <td>98</td>\n      <td>5</td>\n    </tr>\n    <tr>\n      <th>...</th>\n      <td>...</td>\n      <td>...</td>\n      <td>...</td>\n      <td>...</td>\n    </tr>\n    <tr>\n      <th>32284</th>\n      <td>606.39</td>\n      <td>1</td>\n      <td>60</td>\n      <td>64575</td>\n    </tr>\n    <tr>\n      <th>32286</th>\n      <td>606.41</td>\n      <td>1</td>\n      <td>60</td>\n      <td>64576</td>\n    </tr>\n    <tr>\n      <th>32287</th>\n      <td>606.47</td>\n      <td>1</td>\n      <td>60</td>\n      <td>64577</td>\n    </tr>\n    <tr>\n      <th>32290</th>\n      <td>606.78</td>\n      <td>1</td>\n      <td>60</td>\n      <td>64578</td>\n    </tr>\n    <tr>\n      <th>64578</th>\n      <td>26,763,475.78</td>\n      <td>1</td>\n      <td>26</td>\n      <td>64579</td>\n    </tr>\n  </tbody>\n</table>\n<p>64579 rows × 4 columns</p>\n</div>"
     },
     "metadata": {},
     "execution_count": 12
    }
   ],
   "source": [
    "data['Rank'] = range(1, data.shape[0] + 1)\n",
    "data"
   ]
  },
  {
   "cell_type": "code",
   "execution_count": 13,
   "metadata": {},
   "outputs": [
    {
     "output_type": "execute_result",
     "data": {
      "text/plain": "       index        Amount  Count  FirstTwo   Rank\n0       3832         50.00   6022        50      1\n1      41757      1,153.35   2264        11      2\n2      40959      1,083.45   1185        10      3\n3      12039        150.00   1056        15      4\n4      39720        988.35   1018        98      5\n...      ...           ...    ...       ...    ...\n64574  32284        606.39      1        60  64575\n64575  32286        606.41      1        60  64576\n64576  32287        606.47      1        60  64577\n64577  32290        606.78      1        60  64578\n64578  64578 26,763,475.78      1        26  64579\n\n[64579 rows x 5 columns]",
      "text/html": "<div>\n<style scoped>\n    .dataframe tbody tr th:only-of-type {\n        vertical-align: middle;\n    }\n\n    .dataframe tbody tr th {\n        vertical-align: top;\n    }\n\n    .dataframe thead th {\n        text-align: right;\n    }\n</style>\n<table border=\"1\" class=\"dataframe\">\n  <thead>\n    <tr style=\"text-align: right;\">\n      <th></th>\n      <th>index</th>\n      <th>Amount</th>\n      <th>Count</th>\n      <th>FirstTwo</th>\n      <th>Rank</th>\n    </tr>\n  </thead>\n  <tbody>\n    <tr>\n      <th>0</th>\n      <td>3832</td>\n      <td>50.00</td>\n      <td>6022</td>\n      <td>50</td>\n      <td>1</td>\n    </tr>\n    <tr>\n      <th>1</th>\n      <td>41757</td>\n      <td>1,153.35</td>\n      <td>2264</td>\n      <td>11</td>\n      <td>2</td>\n    </tr>\n    <tr>\n      <th>2</th>\n      <td>40959</td>\n      <td>1,083.45</td>\n      <td>1185</td>\n      <td>10</td>\n      <td>3</td>\n    </tr>\n    <tr>\n      <th>3</th>\n      <td>12039</td>\n      <td>150.00</td>\n      <td>1056</td>\n      <td>15</td>\n      <td>4</td>\n    </tr>\n    <tr>\n      <th>4</th>\n      <td>39720</td>\n      <td>988.35</td>\n      <td>1018</td>\n      <td>98</td>\n      <td>5</td>\n    </tr>\n    <tr>\n      <th>...</th>\n      <td>...</td>\n      <td>...</td>\n      <td>...</td>\n      <td>...</td>\n      <td>...</td>\n    </tr>\n    <tr>\n      <th>64574</th>\n      <td>32284</td>\n      <td>606.39</td>\n      <td>1</td>\n      <td>60</td>\n      <td>64575</td>\n    </tr>\n    <tr>\n      <th>64575</th>\n      <td>32286</td>\n      <td>606.41</td>\n      <td>1</td>\n      <td>60</td>\n      <td>64576</td>\n    </tr>\n    <tr>\n      <th>64576</th>\n      <td>32287</td>\n      <td>606.47</td>\n      <td>1</td>\n      <td>60</td>\n      <td>64577</td>\n    </tr>\n    <tr>\n      <th>64577</th>\n      <td>32290</td>\n      <td>606.78</td>\n      <td>1</td>\n      <td>60</td>\n      <td>64578</td>\n    </tr>\n    <tr>\n      <th>64578</th>\n      <td>64578</td>\n      <td>26,763,475.78</td>\n      <td>1</td>\n      <td>26</td>\n      <td>64579</td>\n    </tr>\n  </tbody>\n</table>\n<p>64579 rows × 5 columns</p>\n</div>"
     },
     "metadata": {},
     "execution_count": 13
    }
   ],
   "source": [
    "data.reset_index(inplace=True)\n",
    "data"
   ]
  },
  {
   "cell_type": "code",
   "execution_count": 14,
   "metadata": {},
   "outputs": [
    {
     "data": {
      "text/html": [
       "<div>\n",
       "<style scoped>\n",
       "    .dataframe tbody tr th:only-of-type {\n",
       "        vertical-align: middle;\n",
       "    }\n",
       "\n",
       "    .dataframe tbody tr th {\n",
       "        vertical-align: top;\n",
       "    }\n",
       "\n",
       "    .dataframe thead th {\n",
       "        text-align: right;\n",
       "    }\n",
       "</style>\n",
       "<table border=\"1\" class=\"dataframe\">\n",
       "  <thead>\n",
       "    <tr style=\"text-align: right;\">\n",
       "      <th></th>\n",
       "      <th>Rank</th>\n",
       "      <th>Count</th>\n",
       "      <th>Amount</th>\n",
       "      <th>FirstTwo</th>\n",
       "    </tr>\n",
       "  </thead>\n",
       "  <tbody>\n",
       "    <tr>\n",
       "      <th>0</th>\n",
       "      <td>1</td>\n",
       "      <td>6022</td>\n",
       "      <td>50.00</td>\n",
       "      <td>50</td>\n",
       "    </tr>\n",
       "    <tr>\n",
       "      <th>1</th>\n",
       "      <td>2</td>\n",
       "      <td>2264</td>\n",
       "      <td>1,153.35</td>\n",
       "      <td>11</td>\n",
       "    </tr>\n",
       "    <tr>\n",
       "      <th>2</th>\n",
       "      <td>3</td>\n",
       "      <td>1185</td>\n",
       "      <td>1,083.45</td>\n",
       "      <td>10</td>\n",
       "    </tr>\n",
       "    <tr>\n",
       "      <th>3</th>\n",
       "      <td>4</td>\n",
       "      <td>1056</td>\n",
       "      <td>150.00</td>\n",
       "      <td>15</td>\n",
       "    </tr>\n",
       "    <tr>\n",
       "      <th>4</th>\n",
       "      <td>5</td>\n",
       "      <td>1018</td>\n",
       "      <td>988.35</td>\n",
       "      <td>98</td>\n",
       "    </tr>\n",
       "    <tr>\n",
       "      <th>5</th>\n",
       "      <td>6</td>\n",
       "      <td>976</td>\n",
       "      <td>1,159.35</td>\n",
       "      <td>11</td>\n",
       "    </tr>\n",
       "    <tr>\n",
       "      <th>6</th>\n",
       "      <td>7</td>\n",
       "      <td>956</td>\n",
       "      <td>25.00</td>\n",
       "      <td>25</td>\n",
       "    </tr>\n",
       "    <tr>\n",
       "      <th>7</th>\n",
       "      <td>8</td>\n",
       "      <td>938</td>\n",
       "      <td>90.00</td>\n",
       "      <td>90</td>\n",
       "    </tr>\n",
       "    <tr>\n",
       "      <th>8</th>\n",
       "      <td>9</td>\n",
       "      <td>907</td>\n",
       "      <td>928.45</td>\n",
       "      <td>92</td>\n",
       "    </tr>\n",
       "    <tr>\n",
       "      <th>9</th>\n",
       "      <td>10</td>\n",
       "      <td>729</td>\n",
       "      <td>994.35</td>\n",
       "      <td>99</td>\n",
       "    </tr>\n",
       "    <tr>\n",
       "      <th>10</th>\n",
       "      <td>11</td>\n",
       "      <td>672</td>\n",
       "      <td>30.00</td>\n",
       "      <td>30</td>\n",
       "    </tr>\n",
       "    <tr>\n",
       "      <th>11</th>\n",
       "      <td>12</td>\n",
       "      <td>657</td>\n",
       "      <td>250.00</td>\n",
       "      <td>25</td>\n",
       "    </tr>\n",
       "    <tr>\n",
       "      <th>12</th>\n",
       "      <td>13</td>\n",
       "      <td>631</td>\n",
       "      <td>200.00</td>\n",
       "      <td>20</td>\n",
       "    </tr>\n",
       "    <tr>\n",
       "      <th>13</th>\n",
       "      <td>14</td>\n",
       "      <td>624</td>\n",
       "      <td>100.00</td>\n",
       "      <td>10</td>\n",
       "    </tr>\n",
       "    <tr>\n",
       "      <th>14</th>\n",
       "      <td>15</td>\n",
       "      <td>617</td>\n",
       "      <td>300.00</td>\n",
       "      <td>30</td>\n",
       "    </tr>\n",
       "    <tr>\n",
       "      <th>15</th>\n",
       "      <td>16</td>\n",
       "      <td>602</td>\n",
       "      <td>45.00</td>\n",
       "      <td>45</td>\n",
       "    </tr>\n",
       "    <tr>\n",
       "      <th>16</th>\n",
       "      <td>17</td>\n",
       "      <td>578</td>\n",
       "      <td>1,118.40</td>\n",
       "      <td>11</td>\n",
       "    </tr>\n",
       "    <tr>\n",
       "      <th>17</th>\n",
       "      <td>18</td>\n",
       "      <td>565</td>\n",
       "      <td>1,318.35</td>\n",
       "      <td>13</td>\n",
       "    </tr>\n",
       "    <tr>\n",
       "      <th>18</th>\n",
       "      <td>19</td>\n",
       "      <td>559</td>\n",
       "      <td>964.40</td>\n",
       "      <td>96</td>\n",
       "    </tr>\n",
       "    <tr>\n",
       "      <th>19</th>\n",
       "      <td>20</td>\n",
       "      <td>517</td>\n",
       "      <td>1,018.30</td>\n",
       "      <td>10</td>\n",
       "    </tr>\n",
       "  </tbody>\n",
       "</table>\n",
       "</div>"
      ],
      "text/plain": [
       "    Rank  Count   Amount  FirstTwo\n",
       "0      1   6022    50.00        50\n",
       "1      2   2264 1,153.35        11\n",
       "2      3   1185 1,083.45        10\n",
       "3      4   1056   150.00        15\n",
       "4      5   1018   988.35        98\n",
       "5      6    976 1,159.35        11\n",
       "6      7    956    25.00        25\n",
       "7      8    938    90.00        90\n",
       "8      9    907   928.45        92\n",
       "9     10    729   994.35        99\n",
       "10    11    672    30.00        30\n",
       "11    12    657   250.00        25\n",
       "12    13    631   200.00        20\n",
       "13    14    624   100.00        10\n",
       "14    15    617   300.00        30\n",
       "15    16    602    45.00        45\n",
       "16    17    578 1,118.40        11\n",
       "17    18    565 1,318.35        13\n",
       "18    19    559   964.40        96\n",
       "19    20    517 1,018.30        10"
      ]
     },
     "execution_count": 14,
     "metadata": {},
     "output_type": "execute_result"
    }
   ],
   "source": [
    "data.head(20)[['Rank', 'Count', 'Amount', 'FirstTwo']]"
   ]
  },
  {
   "cell_type": "markdown",
   "metadata": {},
   "source": [
    "# Small Number"
   ]
  },
  {
   "cell_type": "code",
   "execution_count": 14,
   "metadata": {},
   "outputs": [
    {
     "output_type": "execute_result",
     "data": {
      "text/plain": "    Rank  Count  Amount  FirstTwo\n0      1    204    5.25         5\n1      2    152    9.38         9\n2      3    145    6.45         6\n3      4    144    0.29         0\n4      5    130    5.00         5\n5      6    118    2.35         2\n6      7    110    4.40         4\n7      8    100    6.25         6\n8      9    100    0.59         0\n9     10     91    0.91         0\n10    11     77    8.80         8\n11    12     77    5.95         5\n12    13     76    4.69         4\n13    14     67    0.36         0\n14    15     66    4.22         4\n15    16     65    3.50         3\n16    17     62    8.47         8\n17    18     61    3.82         3\n18    19     60    7.27         7\n19    20     55    3.62         3",
      "text/html": "<div>\n<style scoped>\n    .dataframe tbody tr th:only-of-type {\n        vertical-align: middle;\n    }\n\n    .dataframe tbody tr th {\n        vertical-align: top;\n    }\n\n    .dataframe thead th {\n        text-align: right;\n    }\n</style>\n<table border=\"1\" class=\"dataframe\">\n  <thead>\n    <tr style=\"text-align: right;\">\n      <th></th>\n      <th>Rank</th>\n      <th>Count</th>\n      <th>Amount</th>\n      <th>FirstTwo</th>\n    </tr>\n  </thead>\n  <tbody>\n    <tr>\n      <th>0</th>\n      <td>1</td>\n      <td>204</td>\n      <td>5.25</td>\n      <td>5</td>\n    </tr>\n    <tr>\n      <th>1</th>\n      <td>2</td>\n      <td>152</td>\n      <td>9.38</td>\n      <td>9</td>\n    </tr>\n    <tr>\n      <th>2</th>\n      <td>3</td>\n      <td>145</td>\n      <td>6.45</td>\n      <td>6</td>\n    </tr>\n    <tr>\n      <th>3</th>\n      <td>4</td>\n      <td>144</td>\n      <td>0.29</td>\n      <td>0</td>\n    </tr>\n    <tr>\n      <th>4</th>\n      <td>5</td>\n      <td>130</td>\n      <td>5.00</td>\n      <td>5</td>\n    </tr>\n    <tr>\n      <th>5</th>\n      <td>6</td>\n      <td>118</td>\n      <td>2.35</td>\n      <td>2</td>\n    </tr>\n    <tr>\n      <th>6</th>\n      <td>7</td>\n      <td>110</td>\n      <td>4.40</td>\n      <td>4</td>\n    </tr>\n    <tr>\n      <th>7</th>\n      <td>8</td>\n      <td>100</td>\n      <td>6.25</td>\n      <td>6</td>\n    </tr>\n    <tr>\n      <th>8</th>\n      <td>9</td>\n      <td>100</td>\n      <td>0.59</td>\n      <td>0</td>\n    </tr>\n    <tr>\n      <th>9</th>\n      <td>10</td>\n      <td>91</td>\n      <td>0.91</td>\n      <td>0</td>\n    </tr>\n    <tr>\n      <th>10</th>\n      <td>11</td>\n      <td>77</td>\n      <td>8.80</td>\n      <td>8</td>\n    </tr>\n    <tr>\n      <th>11</th>\n      <td>12</td>\n      <td>77</td>\n      <td>5.95</td>\n      <td>5</td>\n    </tr>\n    <tr>\n      <th>12</th>\n      <td>13</td>\n      <td>76</td>\n      <td>4.69</td>\n      <td>4</td>\n    </tr>\n    <tr>\n      <th>13</th>\n      <td>14</td>\n      <td>67</td>\n      <td>0.36</td>\n      <td>0</td>\n    </tr>\n    <tr>\n      <th>14</th>\n      <td>15</td>\n      <td>66</td>\n      <td>4.22</td>\n      <td>4</td>\n    </tr>\n    <tr>\n      <th>15</th>\n      <td>16</td>\n      <td>65</td>\n      <td>3.50</td>\n      <td>3</td>\n    </tr>\n    <tr>\n      <th>16</th>\n      <td>17</td>\n      <td>62</td>\n      <td>8.47</td>\n      <td>8</td>\n    </tr>\n    <tr>\n      <th>17</th>\n      <td>18</td>\n      <td>61</td>\n      <td>3.82</td>\n      <td>3</td>\n    </tr>\n    <tr>\n      <th>18</th>\n      <td>19</td>\n      <td>60</td>\n      <td>7.27</td>\n      <td>7</td>\n    </tr>\n    <tr>\n      <th>19</th>\n      <td>20</td>\n      <td>55</td>\n      <td>3.62</td>\n      <td>3</td>\n    </tr>\n  </tbody>\n</table>\n</div>"
     },
     "metadata": {},
     "execution_count": 14
    }
   ],
   "source": [
    "smallnumber = df[(df['Amount'] > 0) & (df['Amount']< 10)][['ID', 'Amount']]\n",
    "data = smallnumber.groupby('Amount', as_index=False).count()\n",
    "data.rename(columns={'ID': 'Count'}, inplace=True)\n",
    "data.sort_values(by='Count', ascending=False, inplace=True)\n",
    "data['FirstTwo'] = data['Amount'].astype(str).str[:1].astype('int64')\n",
    "data['Rank'] = range(1, data.shape[0] + 1)\n",
    "data.reset_index(inplace=True)\n",
    "data.head(20)[['Rank', 'Count', 'Amount', 'FirstTwo']]"
   ]
  }
 ],
 "metadata": {
  "kernelspec": {
   "display_name": "Python 3.7.7 64-bit ('basangdata': conda)",
   "language": "python",
   "name": "python37764bitbasangdatacondab13e9b907b0c465490cdc843b7b01f22"
  },
  "language_info": {
   "codemirror_mode": {
    "name": "ipython",
    "version": 3
   },
   "file_extension": ".py",
   "mimetype": "text/x-python",
   "name": "python",
   "nbconvert_exporter": "python",
   "pygments_lexer": "ipython3",
   "version": "3.7.7-final"
  }
 },
 "nbformat": 4,
 "nbformat_minor": 4
}