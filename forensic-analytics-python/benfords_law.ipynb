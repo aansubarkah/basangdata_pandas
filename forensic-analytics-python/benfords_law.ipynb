{
 "cells": [
  {
   "cell_type": "markdown",
   "metadata": {},
   "source": [
    "# Instalasi Library Benford"
   ]
  },
  {
   "cell_type": "code",
   "execution_count": 1,
   "metadata": {},
   "outputs": [],
   "source": [
    "#!pip install benford_py"
   ]
  },
  {
   "cell_type": "markdown",
   "metadata": {},
   "source": [
    "# Impor Library"
   ]
  },
  {
   "cell_type": "code",
   "execution_count": 2,
   "metadata": {},
   "outputs": [],
   "source": [
    "import pandas as pd\n",
    "import benford as bf\n",
    "\n",
    "pd.options.display.float_format = '{:,}'.format"
   ]
  },
  {
   "cell_type": "markdown",
   "metadata": {},
   "source": [
    "# Load Data"
   ]
  },
  {
   "cell_type": "code",
   "execution_count": 3,
   "metadata": {},
   "outputs": [],
   "source": [
    "df = pd.read_excel('Chapter4_Figure4pt4_DataOnly.xlsx')"
   ]
  },
  {
   "cell_type": "code",
   "execution_count": 4,
   "metadata": {},
   "outputs": [
    {
     "data": {
      "text/html": [
       "<div>\n",
       "<style scoped>\n",
       "    .dataframe tbody tr th:only-of-type {\n",
       "        vertical-align: middle;\n",
       "    }\n",
       "\n",
       "    .dataframe tbody tr th {\n",
       "        vertical-align: top;\n",
       "    }\n",
       "\n",
       "    .dataframe thead th {\n",
       "        text-align: right;\n",
       "    }\n",
       "</style>\n",
       "<table border=\"1\" class=\"dataframe\">\n",
       "  <thead>\n",
       "    <tr style=\"text-align: right;\">\n",
       "      <th></th>\n",
       "      <th>ID</th>\n",
       "      <th>VendorNum</th>\n",
       "      <th>Date</th>\n",
       "      <th>InvNum</th>\n",
       "      <th>Amount</th>\n",
       "    </tr>\n",
       "  </thead>\n",
       "  <tbody>\n",
       "    <tr>\n",
       "      <th>0</th>\n",
       "      <td>1</td>\n",
       "      <td>2001</td>\n",
       "      <td>2010-01-01</td>\n",
       "      <td>4242J10</td>\n",
       "      <td>25.19</td>\n",
       "    </tr>\n",
       "    <tr>\n",
       "      <th>1</th>\n",
       "      <td>2</td>\n",
       "      <td>2001</td>\n",
       "      <td>2010-01-01</td>\n",
       "      <td>7899J10</td>\n",
       "      <td>25.86</td>\n",
       "    </tr>\n",
       "    <tr>\n",
       "      <th>2</th>\n",
       "      <td>3</td>\n",
       "      <td>2001</td>\n",
       "      <td>2010-01-01</td>\n",
       "      <td>3830J10</td>\n",
       "      <td>26.57</td>\n",
       "    </tr>\n",
       "    <tr>\n",
       "      <th>3</th>\n",
       "      <td>4</td>\n",
       "      <td>2001</td>\n",
       "      <td>2010-01-01</td>\n",
       "      <td>9514J10</td>\n",
       "      <td>27.83</td>\n",
       "    </tr>\n",
       "    <tr>\n",
       "      <th>4</th>\n",
       "      <td>5</td>\n",
       "      <td>2001</td>\n",
       "      <td>2010-01-01</td>\n",
       "      <td>6296J10</td>\n",
       "      <td>28.09</td>\n",
       "    </tr>\n",
       "  </tbody>\n",
       "</table>\n",
       "</div>"
      ],
      "text/plain": [
       "   ID  VendorNum       Date   InvNum  Amount\n",
       "0   1       2001 2010-01-01  4242J10   25.19\n",
       "1   2       2001 2010-01-01  7899J10   25.86\n",
       "2   3       2001 2010-01-01  3830J10   26.57\n",
       "3   4       2001 2010-01-01  9514J10   27.83\n",
       "4   5       2001 2010-01-01  6296J10   28.09"
      ]
     },
     "execution_count": 4,
     "metadata": {},
     "output_type": "execute_result"
    }
   ],
   "source": [
    "df.head(5)"
   ]
  },
  {
   "cell_type": "code",
   "execution_count": 5,
   "metadata": {},
   "outputs": [],
   "source": [
    "df2 = df[df['Amount'] >= 10]"
   ]
  },
  {
   "cell_type": "code",
   "execution_count": 6,
   "metadata": {},
   "outputs": [
    {
     "data": {
      "text/html": [
       "<div>\n",
       "<style scoped>\n",
       "    .dataframe tbody tr th:only-of-type {\n",
       "        vertical-align: middle;\n",
       "    }\n",
       "\n",
       "    .dataframe tbody tr th {\n",
       "        vertical-align: top;\n",
       "    }\n",
       "\n",
       "    .dataframe thead th {\n",
       "        text-align: right;\n",
       "    }\n",
       "</style>\n",
       "<table border=\"1\" class=\"dataframe\">\n",
       "  <thead>\n",
       "    <tr style=\"text-align: right;\">\n",
       "      <th></th>\n",
       "      <th>ID</th>\n",
       "      <th>VendorNum</th>\n",
       "      <th>Date</th>\n",
       "      <th>InvNum</th>\n",
       "      <th>Amount</th>\n",
       "    </tr>\n",
       "  </thead>\n",
       "  <tbody>\n",
       "    <tr>\n",
       "      <th>0</th>\n",
       "      <td>1</td>\n",
       "      <td>2001</td>\n",
       "      <td>2010-01-01</td>\n",
       "      <td>4242J10</td>\n",
       "      <td>25.19</td>\n",
       "    </tr>\n",
       "    <tr>\n",
       "      <th>1</th>\n",
       "      <td>2</td>\n",
       "      <td>2001</td>\n",
       "      <td>2010-01-01</td>\n",
       "      <td>7899J10</td>\n",
       "      <td>25.86</td>\n",
       "    </tr>\n",
       "    <tr>\n",
       "      <th>2</th>\n",
       "      <td>3</td>\n",
       "      <td>2001</td>\n",
       "      <td>2010-01-01</td>\n",
       "      <td>3830J10</td>\n",
       "      <td>26.57</td>\n",
       "    </tr>\n",
       "    <tr>\n",
       "      <th>3</th>\n",
       "      <td>4</td>\n",
       "      <td>2001</td>\n",
       "      <td>2010-01-01</td>\n",
       "      <td>9514J10</td>\n",
       "      <td>27.83</td>\n",
       "    </tr>\n",
       "    <tr>\n",
       "      <th>4</th>\n",
       "      <td>5</td>\n",
       "      <td>2001</td>\n",
       "      <td>2010-01-01</td>\n",
       "      <td>6296J10</td>\n",
       "      <td>28.09</td>\n",
       "    </tr>\n",
       "  </tbody>\n",
       "</table>\n",
       "</div>"
      ],
      "text/plain": [
       "   ID  VendorNum       Date   InvNum  Amount\n",
       "0   1       2001 2010-01-01  4242J10   25.19\n",
       "1   2       2001 2010-01-01  7899J10   25.86\n",
       "2   3       2001 2010-01-01  3830J10   26.57\n",
       "3   4       2001 2010-01-01  9514J10   27.83\n",
       "4   5       2001 2010-01-01  6296J10   28.09"
      ]
     },
     "execution_count": 6,
     "metadata": {},
     "output_type": "execute_result"
    }
   ],
   "source": [
    "df2.head(5)"
   ]
  },
  {
   "cell_type": "markdown",
   "metadata": {},
   "source": [
    "# First Digit Test"
   ]
  },
  {
   "cell_type": "code",
   "execution_count": 7,
   "metadata": {},
   "outputs": [
    {
     "name": "stdout",
     "output_type": "stream",
     "text": [
      "\n",
      "Initialized sequence with 177763 registries.\n",
      "First_1_Dig\n",
      "1    0.3290279754504593\n",
      "2    0.1639261263592536\n",
      "3   0.10931408673345971\n",
      "4   0.08179992461873394\n",
      "5    0.0996045296265252\n",
      "6   0.05794231645505533\n",
      "7   0.04769271445688923\n",
      "8    0.0474676957522094\n",
      "9   0.06322463054741426\n",
      "Name: Found, dtype: float64\n",
      "\n",
      "Test performed on 177763 registries.\n",
      "Discarded 0 records < 1 after preparation.\n"
     ]
    },
    {
     "data": {
      "image/png": "[encoded data removed]",
      "text/plain": [
       "<Figure size 864x648 with 1 Axes>"
      ]
     },
     "metadata": {
      "needs_background": "light"
     },
     "output_type": "display_data"
    }
   ],
   "source": [
    "f1d = bf.first_digits(df2['Amount'], digs=1)"
   ]
  },
  {
   "cell_type": "markdown",
   "metadata": {},
   "source": [
    "# Second Digit Test"
   ]
  },
  {
   "cell_type": "code",
   "execution_count": 8,
   "metadata": {},
   "outputs": [
    {
     "name": "stdout",
     "output_type": "stream",
     "text": [
      "\n",
      "Initialized sequence with 177763 registries.\n",
      "Sec_Dig\n",
      "0    0.1797899450391814\n",
      "1   0.12132446009574546\n",
      "2   0.10117966055928398\n",
      "3   0.09098068776967086\n",
      "4   0.08306002936494096\n",
      "5   0.10571941292619949\n",
      "6   0.08669408144552015\n",
      "7   0.07461057700421347\n",
      "8    0.0784808987247065\n",
      "9   0.07816024707053774\n",
      "Name: Found, dtype: float64\n",
      "\n",
      "Test performed on 177763 registries.\n",
      "Discarded 0 records < 10 after preparation.\n"
     ]
    },
    {
     "data": {
      "image/png": "[encoded data removed]",
      "text/plain": [
       "<Figure size 720x432 with 1 Axes>"
      ]
     },
     "metadata": {
      "needs_background": "light"
     },
     "output_type": "display_data"
    }
   ],
   "source": [
    "f2d = bf.second_digit(df2['Amount'])"
   ]
  },
  {
   "cell_type": "markdown",
   "metadata": {},
   "source": [
    "# First-two Digits Test"
   ]
  },
  {
   "cell_type": "code",
   "execution_count": 9,
   "metadata": {},
   "outputs": [
    {
     "name": "stdout",
     "output_type": "stream",
     "text": [
      "\n",
      "Initialized sequence with 177763 registries.\n",
      "First_2_Dig\n",
      "10     0.05872425645381772\n",
      "11      0.0579760692607573\n",
      "12     0.03356153980299612\n",
      "13     0.03238019160342703\n",
      "14     0.02510083650703465\n",
      "              ...         \n",
      "95     0.00644678588907703\n",
      "96    0.006891197830819687\n",
      "97   0.0030265015779436665\n",
      "98    0.009327025308978809\n",
      "99    0.007954411210431868\n",
      "Name: Found, Length: 90, dtype: float64\n",
      "\n",
      "Test performed on 177763 registries.\n",
      "Discarded 0 records < 10 after preparation.\n"
     ]
    },
    {
     "data": {
      "image/png": "[encoded data removed]",
      "text/plain": [
       "<Figure size 1296x972 with 1 Axes>"
      ]
     },
     "metadata": {
      "needs_background": "light"
     },
     "output_type": "display_data"
    }
   ],
   "source": [
    "f12d = bf.first_digits(df2['Amount'], digs=2)"
   ]
  },
  {
   "cell_type": "markdown",
   "metadata": {},
   "source": [
    "# Identify digits"
   ]
  },
  {
   "cell_type": "markdown",
   "metadata": {},
   "source": [
    "## First Digit"
   ]
  },
  {
   "cell_type": "code",
   "execution_count": 10,
   "metadata": {},
   "outputs": [
    {
     "data": {
      "text/html": [
       "<div>\n",
       "<style scoped>\n",
       "    .dataframe tbody tr th:only-of-type {\n",
       "        vertical-align: middle;\n",
       "    }\n",
       "\n",
       "    .dataframe tbody tr th {\n",
       "        vertical-align: top;\n",
       "    }\n",
       "\n",
       "    .dataframe thead th {\n",
       "        text-align: right;\n",
       "    }\n",
       "</style>\n",
       "<table border=\"1\" class=\"dataframe\">\n",
       "  <thead>\n",
       "    <tr style=\"text-align: right;\">\n",
       "      <th></th>\n",
       "      <th>ID</th>\n",
       "      <th>VendorNum</th>\n",
       "      <th>Date</th>\n",
       "      <th>InvNum</th>\n",
       "      <th>Amount</th>\n",
       "    </tr>\n",
       "  </thead>\n",
       "  <tbody>\n",
       "    <tr>\n",
       "      <th>0</th>\n",
       "      <td>1</td>\n",
       "      <td>2001</td>\n",
       "      <td>2010-01-01</td>\n",
       "      <td>4242J10</td>\n",
       "      <td>25.19</td>\n",
       "    </tr>\n",
       "    <tr>\n",
       "      <th>1</th>\n",
       "      <td>2</td>\n",
       "      <td>2001</td>\n",
       "      <td>2010-01-01</td>\n",
       "      <td>7899J10</td>\n",
       "      <td>25.86</td>\n",
       "    </tr>\n",
       "    <tr>\n",
       "      <th>2</th>\n",
       "      <td>3</td>\n",
       "      <td>2001</td>\n",
       "      <td>2010-01-01</td>\n",
       "      <td>3830J10</td>\n",
       "      <td>26.57</td>\n",
       "    </tr>\n",
       "    <tr>\n",
       "      <th>3</th>\n",
       "      <td>4</td>\n",
       "      <td>2001</td>\n",
       "      <td>2010-01-01</td>\n",
       "      <td>9514J10</td>\n",
       "      <td>27.83</td>\n",
       "    </tr>\n",
       "    <tr>\n",
       "      <th>4</th>\n",
       "      <td>5</td>\n",
       "      <td>2001</td>\n",
       "      <td>2010-01-01</td>\n",
       "      <td>6296J10</td>\n",
       "      <td>28.09</td>\n",
       "    </tr>\n",
       "  </tbody>\n",
       "</table>\n",
       "</div>"
      ],
      "text/plain": [
       "   ID  VendorNum       Date   InvNum  Amount\n",
       "0   1       2001 2010-01-01  4242J10   25.19\n",
       "1   2       2001 2010-01-01  7899J10   25.86\n",
       "2   3       2001 2010-01-01  3830J10   26.57\n",
       "3   4       2001 2010-01-01  9514J10   27.83\n",
       "4   5       2001 2010-01-01  6296J10   28.09"
      ]
     },
     "execution_count": 10,
     "metadata": {},
     "output_type": "execute_result"
    }
   ],
   "source": [
    "df2.head(5)"
   ]
  },
  {
   "cell_type": "code",
   "execution_count": 11,
   "metadata": {},
   "outputs": [
    {
     "name": "stderr",
     "output_type": "stream",
     "text": [
      "<ipython-input-11-d57cfaa6d73b>:1: SettingWithCopyWarning: \n",
      "A value is trying to be set on a copy of a slice from a DataFrame.\n",
      "Try using .loc[row_indexer,col_indexer] = value instead\n",
      "\n",
      "See the caveats in the documentation: https://pandas.pydata.org/pandas-docs/stable/user_guide/indexing.html#returning-a-view-versus-a-copy\n",
      "  df2['first_digits'] = df2['Amount'].astype(str).str[0].astype(int)\n"
     ]
    },
    {
     "data": {
      "text/html": [
       "<div>\n",
       "<style scoped>\n",
       "    .dataframe tbody tr th:only-of-type {\n",
       "        vertical-align: middle;\n",
       "    }\n",
       "\n",
       "    .dataframe tbody tr th {\n",
       "        vertical-align: top;\n",
       "    }\n",
       "\n",
       "    .dataframe thead th {\n",
       "        text-align: right;\n",
       "    }\n",
       "</style>\n",
       "<table border=\"1\" class=\"dataframe\">\n",
       "  <thead>\n",
       "    <tr style=\"text-align: right;\">\n",
       "      <th></th>\n",
       "      <th>ID</th>\n",
       "      <th>VendorNum</th>\n",
       "      <th>Date</th>\n",
       "      <th>InvNum</th>\n",
       "      <th>Amount</th>\n",
       "      <th>first_digits</th>\n",
       "    </tr>\n",
       "  </thead>\n",
       "  <tbody>\n",
       "    <tr>\n",
       "      <th>0</th>\n",
       "      <td>1</td>\n",
       "      <td>2001</td>\n",
       "      <td>2010-01-01</td>\n",
       "      <td>4242J10</td>\n",
       "      <td>25.19</td>\n",
       "      <td>2</td>\n",
       "    </tr>\n",
       "    <tr>\n",
       "      <th>1</th>\n",
       "      <td>2</td>\n",
       "      <td>2001</td>\n",
       "      <td>2010-01-01</td>\n",
       "      <td>7899J10</td>\n",
       "      <td>25.86</td>\n",
       "      <td>2</td>\n",
       "    </tr>\n",
       "    <tr>\n",
       "      <th>2</th>\n",
       "      <td>3</td>\n",
       "      <td>2001</td>\n",
       "      <td>2010-01-01</td>\n",
       "      <td>3830J10</td>\n",
       "      <td>26.57</td>\n",
       "      <td>2</td>\n",
       "    </tr>\n",
       "    <tr>\n",
       "      <th>3</th>\n",
       "      <td>4</td>\n",
       "      <td>2001</td>\n",
       "      <td>2010-01-01</td>\n",
       "      <td>9514J10</td>\n",
       "      <td>27.83</td>\n",
       "      <td>2</td>\n",
       "    </tr>\n",
       "    <tr>\n",
       "      <th>4</th>\n",
       "      <td>5</td>\n",
       "      <td>2001</td>\n",
       "      <td>2010-01-01</td>\n",
       "      <td>6296J10</td>\n",
       "      <td>28.09</td>\n",
       "      <td>2</td>\n",
       "    </tr>\n",
       "  </tbody>\n",
       "</table>\n",
       "</div>"
      ],
      "text/plain": [
       "   ID  VendorNum       Date   InvNum  Amount  first_digits\n",
       "0   1       2001 2010-01-01  4242J10   25.19             2\n",
       "1   2       2001 2010-01-01  7899J10   25.86             2\n",
       "2   3       2001 2010-01-01  3830J10   26.57             2\n",
       "3   4       2001 2010-01-01  9514J10   27.83             2\n",
       "4   5       2001 2010-01-01  6296J10   28.09             2"
      ]
     },
     "execution_count": 11,
     "metadata": {},
     "output_type": "execute_result"
    }
   ],
   "source": [
    "df2['first_digits'] = df2['Amount'].astype(str).str[0].astype(int)\n",
    "df2.head(5)"
   ]
  },
  {
   "cell_type": "markdown",
   "metadata": {},
   "source": [
    "## Second digits"
   ]
  },
  {
   "cell_type": "code",
   "execution_count": 12,
   "metadata": {},
   "outputs": [
    {
     "name": "stderr",
     "output_type": "stream",
     "text": [
      "<ipython-input-12-e9a1ab6d7833>:1: SettingWithCopyWarning: \n",
      "A value is trying to be set on a copy of a slice from a DataFrame.\n",
      "Try using .loc[row_indexer,col_indexer] = value instead\n",
      "\n",
      "See the caveats in the documentation: https://pandas.pydata.org/pandas-docs/stable/user_guide/indexing.html#returning-a-view-versus-a-copy\n",
      "  df2['second_digits'] = df2['Amount'].astype(str).str[1:2].astype(int)\n"
     ]
    },
    {
     "data": {
      "text/html": [
       "<div>\n",
       "<style scoped>\n",
       "    .dataframe tbody tr th:only-of-type {\n",
       "        vertical-align: middle;\n",
       "    }\n",
       "\n",
       "    .dataframe tbody tr th {\n",
       "        vertical-align: top;\n",
       "    }\n",
       "\n",
       "    .dataframe thead th {\n",
       "        text-align: right;\n",
       "    }\n",
       "</style>\n",
       "<table border=\"1\" class=\"dataframe\">\n",
       "  <thead>\n",
       "    <tr style=\"text-align: right;\">\n",
       "      <th></th>\n",
       "      <th>ID</th>\n",
       "      <th>VendorNum</th>\n",
       "      <th>Date</th>\n",
       "      <th>InvNum</th>\n",
       "      <th>Amount</th>\n",
       "      <th>first_digits</th>\n",
       "      <th>second_digits</th>\n",
       "    </tr>\n",
       "  </thead>\n",
       "  <tbody>\n",
       "    <tr>\n",
       "      <th>0</th>\n",
       "      <td>1</td>\n",
       "      <td>2001</td>\n",
       "      <td>2010-01-01</td>\n",
       "      <td>4242J10</td>\n",
       "      <td>25.19</td>\n",
       "      <td>2</td>\n",
       "      <td>5</td>\n",
       "    </tr>\n",
       "    <tr>\n",
       "      <th>1</th>\n",
       "      <td>2</td>\n",
       "      <td>2001</td>\n",
       "      <td>2010-01-01</td>\n",
       "      <td>7899J10</td>\n",
       "      <td>25.86</td>\n",
       "      <td>2</td>\n",
       "      <td>5</td>\n",
       "    </tr>\n",
       "    <tr>\n",
       "      <th>2</th>\n",
       "      <td>3</td>\n",
       "      <td>2001</td>\n",
       "      <td>2010-01-01</td>\n",
       "      <td>3830J10</td>\n",
       "      <td>26.57</td>\n",
       "      <td>2</td>\n",
       "      <td>6</td>\n",
       "    </tr>\n",
       "    <tr>\n",
       "      <th>3</th>\n",
       "      <td>4</td>\n",
       "      <td>2001</td>\n",
       "      <td>2010-01-01</td>\n",
       "      <td>9514J10</td>\n",
       "      <td>27.83</td>\n",
       "      <td>2</td>\n",
       "      <td>7</td>\n",
       "    </tr>\n",
       "    <tr>\n",
       "      <th>4</th>\n",
       "      <td>5</td>\n",
       "      <td>2001</td>\n",
       "      <td>2010-01-01</td>\n",
       "      <td>6296J10</td>\n",
       "      <td>28.09</td>\n",
       "      <td>2</td>\n",
       "      <td>8</td>\n",
       "    </tr>\n",
       "  </tbody>\n",
       "</table>\n",
       "</div>"
      ],
      "text/plain": [
       "   ID  VendorNum       Date   InvNum  Amount  first_digits  second_digits\n",
       "0   1       2001 2010-01-01  4242J10   25.19             2              5\n",
       "1   2       2001 2010-01-01  7899J10   25.86             2              5\n",
       "2   3       2001 2010-01-01  3830J10   26.57             2              6\n",
       "3   4       2001 2010-01-01  9514J10   27.83             2              7\n",
       "4   5       2001 2010-01-01  6296J10   28.09             2              8"
      ]
     },
     "execution_count": 12,
     "metadata": {},
     "output_type": "execute_result"
    }
   ],
   "source": [
    "df2['second_digits'] = df2['Amount'].astype(str).str[1:2].astype(int)\n",
    "df2.head(5)"
   ]
  },
  {
   "cell_type": "markdown",
   "metadata": {},
   "source": [
    "## First-two digits"
   ]
  },
  {
   "cell_type": "code",
   "execution_count": 13,
   "metadata": {},
   "outputs": [
    {
     "name": "stderr",
     "output_type": "stream",
     "text": [
      "<ipython-input-13-e9ca41a8eba8>:1: SettingWithCopyWarning: \n",
      "A value is trying to be set on a copy of a slice from a DataFrame.\n",
      "Try using .loc[row_indexer,col_indexer] = value instead\n",
      "\n",
      "See the caveats in the documentation: https://pandas.pydata.org/pandas-docs/stable/user_guide/indexing.html#returning-a-view-versus-a-copy\n",
      "  df2['first_two_digits'] = df2['Amount'].astype(str).str[:2].astype(int)\n"
     ]
    },
    {
     "data": {
      "text/html": [
       "<div>\n",
       "<style scoped>\n",
       "    .dataframe tbody tr th:only-of-type {\n",
       "        vertical-align: middle;\n",
       "    }\n",
       "\n",
       "    .dataframe tbody tr th {\n",
       "        vertical-align: top;\n",
       "    }\n",
       "\n",
       "    .dataframe thead th {\n",
       "        text-align: right;\n",
       "    }\n",
       "</style>\n",
       "<table border=\"1\" class=\"dataframe\">\n",
       "  <thead>\n",
       "    <tr style=\"text-align: right;\">\n",
       "      <th></th>\n",
       "      <th>ID</th>\n",
       "      <th>VendorNum</th>\n",
       "      <th>Date</th>\n",
       "      <th>InvNum</th>\n",
       "      <th>Amount</th>\n",
       "      <th>first_digits</th>\n",
       "      <th>second_digits</th>\n",
       "      <th>first_two_digits</th>\n",
       "    </tr>\n",
       "  </thead>\n",
       "  <tbody>\n",
       "    <tr>\n",
       "      <th>0</th>\n",
       "      <td>1</td>\n",
       "      <td>2001</td>\n",
       "      <td>2010-01-01</td>\n",
       "      <td>4242J10</td>\n",
       "      <td>25.19</td>\n",
       "      <td>2</td>\n",
       "      <td>5</td>\n",
       "      <td>25</td>\n",
       "    </tr>\n",
       "    <tr>\n",
       "      <th>1</th>\n",
       "      <td>2</td>\n",
       "      <td>2001</td>\n",
       "      <td>2010-01-01</td>\n",
       "      <td>7899J10</td>\n",
       "      <td>25.86</td>\n",
       "      <td>2</td>\n",
       "      <td>5</td>\n",
       "      <td>25</td>\n",
       "    </tr>\n",
       "    <tr>\n",
       "      <th>2</th>\n",
       "      <td>3</td>\n",
       "      <td>2001</td>\n",
       "      <td>2010-01-01</td>\n",
       "      <td>3830J10</td>\n",
       "      <td>26.57</td>\n",
       "      <td>2</td>\n",
       "      <td>6</td>\n",
       "      <td>26</td>\n",
       "    </tr>\n",
       "    <tr>\n",
       "      <th>3</th>\n",
       "      <td>4</td>\n",
       "      <td>2001</td>\n",
       "      <td>2010-01-01</td>\n",
       "      <td>9514J10</td>\n",
       "      <td>27.83</td>\n",
       "      <td>2</td>\n",
       "      <td>7</td>\n",
       "      <td>27</td>\n",
       "    </tr>\n",
       "    <tr>\n",
       "      <th>4</th>\n",
       "      <td>5</td>\n",
       "      <td>2001</td>\n",
       "      <td>2010-01-01</td>\n",
       "      <td>6296J10</td>\n",
       "      <td>28.09</td>\n",
       "      <td>2</td>\n",
       "      <td>8</td>\n",
       "      <td>28</td>\n",
       "    </tr>\n",
       "  </tbody>\n",
       "</table>\n",
       "</div>"
      ],
      "text/plain": [
       "   ID  VendorNum       Date   InvNum  Amount  first_digits  second_digits  \\\n",
       "0   1       2001 2010-01-01  4242J10   25.19             2              5   \n",
       "1   2       2001 2010-01-01  7899J10   25.86             2              5   \n",
       "2   3       2001 2010-01-01  3830J10   26.57             2              6   \n",
       "3   4       2001 2010-01-01  9514J10   27.83             2              7   \n",
       "4   5       2001 2010-01-01  6296J10   28.09             2              8   \n",
       "\n",
       "   first_two_digits  \n",
       "0                25  \n",
       "1                25  \n",
       "2                26  \n",
       "3                27  \n",
       "4                28  "
      ]
     },
     "execution_count": 13,
     "metadata": {},
     "output_type": "execute_result"
    }
   ],
   "source": [
    "df2['first_two_digits'] = df2['Amount'].astype(str).str[:2].astype(int)\n",
    "df2.head(5)"
   ]
  },
  {
   "cell_type": "markdown",
   "metadata": {},
   "source": [
    "# Get data of 50 as the first-two digits"
   ]
  },
  {
   "cell_type": "code",
   "execution_count": 14,
   "metadata": {},
   "outputs": [
    {
     "data": {
      "text/plain": [
       "(7343, 8)"
      ]
     },
     "execution_count": 14,
     "metadata": {},
     "output_type": "execute_result"
    }
   ],
   "source": [
    "sample = df2[df2['first_two_digits'] == 50]\n",
    "sample.shape"
   ]
  },
  {
   "cell_type": "code",
   "execution_count": 15,
   "metadata": {},
   "outputs": [
    {
     "data": {
      "text/html": [
       "<div>\n",
       "<style scoped>\n",
       "    .dataframe tbody tr th:only-of-type {\n",
       "        vertical-align: middle;\n",
       "    }\n",
       "\n",
       "    .dataframe tbody tr th {\n",
       "        vertical-align: top;\n",
       "    }\n",
       "\n",
       "    .dataframe thead th {\n",
       "        text-align: right;\n",
       "    }\n",
       "</style>\n",
       "<table border=\"1\" class=\"dataframe\">\n",
       "  <thead>\n",
       "    <tr style=\"text-align: right;\">\n",
       "      <th></th>\n",
       "      <th>ID</th>\n",
       "      <th>VendorNum</th>\n",
       "      <th>Date</th>\n",
       "      <th>InvNum</th>\n",
       "      <th>Amount</th>\n",
       "      <th>first_digits</th>\n",
       "      <th>second_digits</th>\n",
       "      <th>first_two_digits</th>\n",
       "    </tr>\n",
       "  </thead>\n",
       "  <tbody>\n",
       "    <tr>\n",
       "      <th>18</th>\n",
       "      <td>19</td>\n",
       "      <td>2001</td>\n",
       "      <td>2010-01-01</td>\n",
       "      <td>3822J10</td>\n",
       "      <td>50.38</td>\n",
       "      <td>5</td>\n",
       "      <td>0</td>\n",
       "      <td>50</td>\n",
       "    </tr>\n",
       "    <tr>\n",
       "      <th>94</th>\n",
       "      <td>95</td>\n",
       "      <td>2001</td>\n",
       "      <td>2010-01-08</td>\n",
       "      <td>1585J10</td>\n",
       "      <td>50.42</td>\n",
       "      <td>5</td>\n",
       "      <td>0</td>\n",
       "      <td>50</td>\n",
       "    </tr>\n",
       "    <tr>\n",
       "      <th>95</th>\n",
       "      <td>96</td>\n",
       "      <td>2001</td>\n",
       "      <td>2010-01-08</td>\n",
       "      <td>6673J10</td>\n",
       "      <td>50.8</td>\n",
       "      <td>5</td>\n",
       "      <td>0</td>\n",
       "      <td>50</td>\n",
       "    </tr>\n",
       "    <tr>\n",
       "      <th>171</th>\n",
       "      <td>172</td>\n",
       "      <td>2001</td>\n",
       "      <td>2010-01-09</td>\n",
       "      <td>5864J10</td>\n",
       "      <td>50.27</td>\n",
       "      <td>5</td>\n",
       "      <td>0</td>\n",
       "      <td>50</td>\n",
       "    </tr>\n",
       "    <tr>\n",
       "      <th>172</th>\n",
       "      <td>173</td>\n",
       "      <td>2001</td>\n",
       "      <td>2010-01-09</td>\n",
       "      <td>1532J10</td>\n",
       "      <td>50.45</td>\n",
       "      <td>5</td>\n",
       "      <td>0</td>\n",
       "      <td>50</td>\n",
       "    </tr>\n",
       "    <tr>\n",
       "      <th>173</th>\n",
       "      <td>174</td>\n",
       "      <td>2001</td>\n",
       "      <td>2010-01-09</td>\n",
       "      <td>1599J10</td>\n",
       "      <td>50.49</td>\n",
       "      <td>5</td>\n",
       "      <td>0</td>\n",
       "      <td>50</td>\n",
       "    </tr>\n",
       "    <tr>\n",
       "      <th>339</th>\n",
       "      <td>340</td>\n",
       "      <td>2001</td>\n",
       "      <td>2010-02-25</td>\n",
       "      <td>303100475</td>\n",
       "      <td>500.07</td>\n",
       "      <td>5</td>\n",
       "      <td>0</td>\n",
       "      <td>50</td>\n",
       "    </tr>\n",
       "    <tr>\n",
       "      <th>564</th>\n",
       "      <td>565</td>\n",
       "      <td>2001</td>\n",
       "      <td>2010-05-12</td>\n",
       "      <td>51210</td>\n",
       "      <td>50,006.06</td>\n",
       "      <td>5</td>\n",
       "      <td>0</td>\n",
       "      <td>50</td>\n",
       "    </tr>\n",
       "    <tr>\n",
       "      <th>603</th>\n",
       "      <td>604</td>\n",
       "      <td>2001</td>\n",
       "      <td>2010-05-27</td>\n",
       "      <td>601105597</td>\n",
       "      <td>503.96</td>\n",
       "      <td>5</td>\n",
       "      <td>0</td>\n",
       "      <td>50</td>\n",
       "    </tr>\n",
       "    <tr>\n",
       "      <th>729</th>\n",
       "      <td>730</td>\n",
       "      <td>2001</td>\n",
       "      <td>2010-06-05</td>\n",
       "      <td>2054F10</td>\n",
       "      <td>50.6</td>\n",
       "      <td>5</td>\n",
       "      <td>0</td>\n",
       "      <td>50</td>\n",
       "    </tr>\n",
       "  </tbody>\n",
       "</table>\n",
       "</div>"
      ],
      "text/plain": [
       "      ID  VendorNum       Date     InvNum    Amount  first_digits  \\\n",
       "18    19       2001 2010-01-01    3822J10     50.38             5   \n",
       "94    95       2001 2010-01-08    1585J10     50.42             5   \n",
       "95    96       2001 2010-01-08    6673J10      50.8             5   \n",
       "171  172       2001 2010-01-09    5864J10     50.27             5   \n",
       "172  173       2001 2010-01-09    1532J10     50.45             5   \n",
       "173  174       2001 2010-01-09    1599J10     50.49             5   \n",
       "339  340       2001 2010-02-25  303100475    500.07             5   \n",
       "564  565       2001 2010-05-12      51210 50,006.06             5   \n",
       "603  604       2001 2010-05-27  601105597    503.96             5   \n",
       "729  730       2001 2010-06-05    2054F10      50.6             5   \n",
       "\n",
       "     second_digits  first_two_digits  \n",
       "18               0                50  \n",
       "94               0                50  \n",
       "95               0                50  \n",
       "171              0                50  \n",
       "172              0                50  \n",
       "173              0                50  \n",
       "339              0                50  \n",
       "564              0                50  \n",
       "603              0                50  \n",
       "729              0                50  "
      ]
     },
     "execution_count": 15,
     "metadata": {},
     "output_type": "execute_result"
    }
   ],
   "source": [
    "sample.head(10)"
   ]
  }
 ],
 "metadata": {
  "kernelspec": {
   "display_name": "Python 3",
   "language": "python",
   "name": "python3"
  },
  "language_info": {
   "codemirror_mode": {
    "name": "ipython",
    "version": 3
   },
   "file_extension": ".py",
   "mimetype": "text/x-python",
   "name": "python",
   "nbconvert_exporter": "python",
   "pygments_lexer": "ipython3",
   "version": "3.8.1"
  }
 },
 "nbformat": 4,
 "nbformat_minor": 4
}
