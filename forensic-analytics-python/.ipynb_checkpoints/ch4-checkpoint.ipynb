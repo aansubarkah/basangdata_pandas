{
 "cells": [
  {
   "cell_type": "markdown",
   "metadata": {},
   "source": [
    "# Impor Library"
   ]
  },
  {
   "cell_type": "code",
   "execution_count": 1,
   "metadata": {},
   "outputs": [],
   "source": [
    "import pandas as pd"
   ]
  },
  {
   "cell_type": "code",
   "execution_count": 2,
   "metadata": {},
   "outputs": [],
   "source": [
    "pd.options.display.float_format = '{:,}'.format"
   ]
  },
  {
   "cell_type": "markdown",
   "metadata": {},
   "source": [
    "# Load Data"
   ]
  },
  {
   "cell_type": "code",
   "execution_count": 3,
   "metadata": {},
   "outputs": [],
   "source": [
    "df = pd.read_excel('Chapter4_Figure4pt4_DataOnly.xlsx')"
   ]
  },
  {
   "cell_type": "code",
   "execution_count": 4,
   "metadata": {},
   "outputs": [
    {
     "data": {
      "text/plain": [
       "(189470, 5)"
      ]
     },
     "execution_count": 4,
     "metadata": {},
     "output_type": "execute_result"
    }
   ],
   "source": [
    "df.shape"
   ]
  },
  {
   "cell_type": "code",
   "execution_count": 5,
   "metadata": {},
   "outputs": [
    {
     "data": {
      "text/html": [
       "<div>\n",
       "<style scoped>\n",
       "    .dataframe tbody tr th:only-of-type {\n",
       "        vertical-align: middle;\n",
       "    }\n",
       "\n",
       "    .dataframe tbody tr th {\n",
       "        vertical-align: top;\n",
       "    }\n",
       "\n",
       "    .dataframe thead th {\n",
       "        text-align: right;\n",
       "    }\n",
       "</style>\n",
       "<table border=\"1\" class=\"dataframe\">\n",
       "  <thead>\n",
       "    <tr style=\"text-align: right;\">\n",
       "      <th></th>\n",
       "      <th>ID</th>\n",
       "      <th>VendorNum</th>\n",
       "      <th>Date</th>\n",
       "      <th>InvNum</th>\n",
       "      <th>Amount</th>\n",
       "    </tr>\n",
       "  </thead>\n",
       "  <tbody>\n",
       "    <tr>\n",
       "      <th>0</th>\n",
       "      <td>1</td>\n",
       "      <td>2001</td>\n",
       "      <td>2010-01-01</td>\n",
       "      <td>4242J10</td>\n",
       "      <td>25.19</td>\n",
       "    </tr>\n",
       "    <tr>\n",
       "      <th>1</th>\n",
       "      <td>2</td>\n",
       "      <td>2001</td>\n",
       "      <td>2010-01-01</td>\n",
       "      <td>7899J10</td>\n",
       "      <td>25.86</td>\n",
       "    </tr>\n",
       "  </tbody>\n",
       "</table>\n",
       "</div>"
      ],
      "text/plain": [
       "   ID  VendorNum       Date   InvNum  Amount\n",
       "0   1       2001 2010-01-01  4242J10   25.19\n",
       "1   2       2001 2010-01-01  7899J10   25.86"
      ]
     },
     "execution_count": 5,
     "metadata": {},
     "output_type": "execute_result"
    }
   ],
   "source": [
    "df.head(2)"
   ]
  },
  {
   "cell_type": "markdown",
   "metadata": {},
   "source": [
    "## Konversi Kolom"
   ]
  },
  {
   "cell_type": "code",
   "execution_count": 6,
   "metadata": {},
   "outputs": [],
   "source": [
    "df['ID'] = df['ID'].astype('int64')\n",
    "df['VendorNum'] = df['VendorNum'].astype('int64')\n",
    "df['Date'] = pd.to_datetime(df['Date'], format=\"%m-%d-%Y\")\n",
    "df['InvNum'] = df['InvNum'].astype('str')\n",
    "df['Amount'] = df['Amount'].astype('float64')"
   ]
  },
  {
   "cell_type": "code",
   "execution_count": 7,
   "metadata": {},
   "outputs": [
    {
     "data": {
      "text/html": [
       "<div>\n",
       "<style scoped>\n",
       "    .dataframe tbody tr th:only-of-type {\n",
       "        vertical-align: middle;\n",
       "    }\n",
       "\n",
       "    .dataframe tbody tr th {\n",
       "        vertical-align: top;\n",
       "    }\n",
       "\n",
       "    .dataframe thead th {\n",
       "        text-align: right;\n",
       "    }\n",
       "</style>\n",
       "<table border=\"1\" class=\"dataframe\">\n",
       "  <thead>\n",
       "    <tr style=\"text-align: right;\">\n",
       "      <th></th>\n",
       "      <th>ID</th>\n",
       "      <th>VendorNum</th>\n",
       "      <th>Date</th>\n",
       "      <th>InvNum</th>\n",
       "      <th>Amount</th>\n",
       "    </tr>\n",
       "  </thead>\n",
       "  <tbody>\n",
       "    <tr>\n",
       "      <th>0</th>\n",
       "      <td>1</td>\n",
       "      <td>2001</td>\n",
       "      <td>2010-01-01</td>\n",
       "      <td>4242J10</td>\n",
       "      <td>25.19</td>\n",
       "    </tr>\n",
       "    <tr>\n",
       "      <th>1</th>\n",
       "      <td>2</td>\n",
       "      <td>2001</td>\n",
       "      <td>2010-01-01</td>\n",
       "      <td>7899J10</td>\n",
       "      <td>25.86</td>\n",
       "    </tr>\n",
       "  </tbody>\n",
       "</table>\n",
       "</div>"
      ],
      "text/plain": [
       "   ID  VendorNum       Date   InvNum  Amount\n",
       "0   1       2001 2010-01-01  4242J10   25.19\n",
       "1   2       2001 2010-01-01  7899J10   25.86"
      ]
     },
     "execution_count": 7,
     "metadata": {},
     "output_type": "execute_result"
    }
   ],
   "source": [
    "df.head(2)"
   ]
  },
  {
   "cell_type": "markdown",
   "metadata": {},
   "source": [
    "# Data Profile (Figure 4.1, p.65)"
   ]
  },
  {
   "cell_type": "markdown",
   "metadata": {},
   "source": [
    "## Details"
   ]
  },
  {
   "cell_type": "code",
   "execution_count": 8,
   "metadata": {},
   "outputs": [],
   "source": [
    "over10 = df[df['Amount'] >= 10]\n",
    "over001 = df[(df['Amount'] >= 0.01) & (df['Amount'] <= 9.99)]\n",
    "equal0 = df[df['Amount'] == 0]\n",
    "lower001 = df[(df['Amount'] <= -0.01) & (df['Amount'] >= -9.99)]\n",
    "under10 = df[df['Amount'] <= -10]\n",
    "\n",
    "detail_list = []"
   ]
  },
  {
   "cell_type": "code",
   "execution_count": 9,
   "metadata": {},
   "outputs": [
    {
     "data": {
      "text/plain": [
       "[177763, 93.82118541193857, 492913582.26, 100.53764586147238]"
      ]
     },
     "execution_count": 9,
     "metadata": {},
     "output_type": "execute_result"
    }
   ],
   "source": [
    "data = [over10['Amount'].count(), over10['Amount'].count()/df['Amount'].count()*100, over10['Amount'].sum(), over10['Amount'].sum()/df['Amount'].sum()*100]\n",
    "detail_list.append(data)\n",
    "data"
   ]
  },
  {
   "cell_type": "code",
   "execution_count": 10,
   "metadata": {},
   "outputs": [
    {
     "data": {
      "text/plain": [
       "[7320, 3.8634084551644063, 40159.47, 0.008191169239712125]"
      ]
     },
     "execution_count": 10,
     "metadata": {},
     "output_type": "execute_result"
    }
   ],
   "source": [
    "data = [over001['Amount'].count(), over001['Amount'].count()/df['Amount'].count()*100, over001['Amount'].sum(), over001['Amount'].sum()/df['Amount'].sum()*100]\n",
    "detail_list.append(data)\n",
    "data"
   ]
  },
  {
   "cell_type": "code",
   "execution_count": 11,
   "metadata": {},
   "outputs": [
    {
     "data": {
      "text/plain": [
       "[123, 0.06491792895972977, 0.0, 0.0]"
      ]
     },
     "execution_count": 11,
     "metadata": {},
     "output_type": "execute_result"
    }
   ],
   "source": [
    "data = [equal0['Amount'].count(), equal0['Amount'].count()/df['Amount'].count()*100, equal0['Amount'].sum(), equal0['Amount'].sum()/df['Amount'].sum()*100]\n",
    "detail_list.append(data)\n",
    "data"
   ]
  },
  {
   "cell_type": "code",
   "execution_count": 12,
   "metadata": {},
   "outputs": [
    {
     "data": {
      "text/plain": [
       "[195, 0.10291866786298623, -1121.31, -0.00022870919312883365]"
      ]
     },
     "execution_count": 12,
     "metadata": {},
     "output_type": "execute_result"
    }
   ],
   "source": [
    "data = [lower001['Amount'].count(), lower001['Amount'].count()/df['Amount'].count()*100, lower001['Amount'].sum(), lower001['Amount'].sum()/df['Amount'].sum()*100]\n",
    "detail_list.append(data)\n",
    "data"
   ]
  },
  {
   "cell_type": "code",
   "execution_count": 13,
   "metadata": {},
   "outputs": [
    {
     "data": {
      "text/plain": [
       "[4069, 2.147569536074313, -2674995.5200000005, -0.5456083215189778]"
      ]
     },
     "execution_count": 13,
     "metadata": {},
     "output_type": "execute_result"
    }
   ],
   "source": [
    "data = [under10['Amount'].count(), under10['Amount'].count()/df['Amount'].count()*100, under10['Amount'].sum(), under10['Amount'].sum()/df['Amount'].sum()*100]\n",
    "detail_list.append(data)\n",
    "data"
   ]
  },
  {
   "cell_type": "code",
   "execution_count": 14,
   "metadata": {},
   "outputs": [],
   "source": [
    "detail_df = pd.DataFrame(detail_list, columns=['Count', '% of Total Count', '$', '% of Total Sum'])\n",
    "detail_df['Name'] = ['Amounts 10.00 and over', 'Amounts 0.01 to 9.99', 'Amounts equal to zero', 'Amounts -0.01 to -9.99', 'Amounts -10.00 and under']\n",
    "#detail_df[['Name', 'Count', '% of Total Count', '$', '% of Total Sum']].round(2)"
   ]
  },
  {
   "cell_type": "markdown",
   "metadata": {},
   "source": [
    "### Menambahkan Baris Jumlah dan Menampilkan sebagai Tabel"
   ]
  },
  {
   "cell_type": "code",
   "execution_count": 15,
   "metadata": {},
   "outputs": [
    {
     "data": {
      "text/html": [
       "<div>\n",
       "<style scoped>\n",
       "    .dataframe tbody tr th:only-of-type {\n",
       "        vertical-align: middle;\n",
       "    }\n",
       "\n",
       "    .dataframe tbody tr th {\n",
       "        vertical-align: top;\n",
       "    }\n",
       "\n",
       "    .dataframe thead th {\n",
       "        text-align: right;\n",
       "    }\n",
       "</style>\n",
       "<table border=\"1\" class=\"dataframe\">\n",
       "  <thead>\n",
       "    <tr style=\"text-align: right;\">\n",
       "      <th></th>\n",
       "      <th>Name</th>\n",
       "      <th>Count</th>\n",
       "      <th>% of Total Count</th>\n",
       "      <th>$</th>\n",
       "      <th>% of Total Sum</th>\n",
       "    </tr>\n",
       "  </thead>\n",
       "  <tbody>\n",
       "    <tr>\n",
       "      <th>0</th>\n",
       "      <td>Amounts 10.00 and over</td>\n",
       "      <td>177,763.0</td>\n",
       "      <td>93.82</td>\n",
       "      <td>492,913,582.26</td>\n",
       "      <td>100.54</td>\n",
       "    </tr>\n",
       "    <tr>\n",
       "      <th>1</th>\n",
       "      <td>Amounts 0.01 to 9.99</td>\n",
       "      <td>7,320.0</td>\n",
       "      <td>3.86</td>\n",
       "      <td>40,159.47</td>\n",
       "      <td>0.01</td>\n",
       "    </tr>\n",
       "    <tr>\n",
       "      <th>2</th>\n",
       "      <td>Amounts equal to zero</td>\n",
       "      <td>123.0</td>\n",
       "      <td>0.06</td>\n",
       "      <td>0.0</td>\n",
       "      <td>0.0</td>\n",
       "    </tr>\n",
       "    <tr>\n",
       "      <th>3</th>\n",
       "      <td>Amounts -0.01 to -9.99</td>\n",
       "      <td>195.0</td>\n",
       "      <td>0.1</td>\n",
       "      <td>-1,121.31</td>\n",
       "      <td>-0.0</td>\n",
       "    </tr>\n",
       "    <tr>\n",
       "      <th>4</th>\n",
       "      <td>Amounts -10.00 and under</td>\n",
       "      <td>4,069.0</td>\n",
       "      <td>2.15</td>\n",
       "      <td>-2,674,995.52</td>\n",
       "      <td>-0.55</td>\n",
       "    </tr>\n",
       "    <tr>\n",
       "      <th>5</th>\n",
       "      <td>NaN</td>\n",
       "      <td>189,470.0</td>\n",
       "      <td>100.0</td>\n",
       "      <td>490,277,624.9</td>\n",
       "      <td>100.0</td>\n",
       "    </tr>\n",
       "  </tbody>\n",
       "</table>\n",
       "</div>"
      ],
      "text/plain": [
       "                       Name     Count  % of Total Count              $  \\\n",
       "0    Amounts 10.00 and over 177,763.0             93.82 492,913,582.26   \n",
       "1      Amounts 0.01 to 9.99   7,320.0              3.86      40,159.47   \n",
       "2     Amounts equal to zero     123.0              0.06            0.0   \n",
       "3    Amounts -0.01 to -9.99     195.0               0.1      -1,121.31   \n",
       "4  Amounts -10.00 and under   4,069.0              2.15  -2,674,995.52   \n",
       "5                       NaN 189,470.0             100.0  490,277,624.9   \n",
       "\n",
       "   % of Total Sum  \n",
       "0          100.54  \n",
       "1            0.01  \n",
       "2             0.0  \n",
       "3            -0.0  \n",
       "4           -0.55  \n",
       "5           100.0  "
      ]
     },
     "execution_count": 15,
     "metadata": {},
     "output_type": "execute_result"
    }
   ],
   "source": [
    "detail_df = detail_df.append(detail_df.sum(numeric_only=True), ignore_index=True)[['Name', 'Count', '% of Total Count', '$', '% of Total Sum']].round(2)\n",
    "detail_df"
   ]
  },
  {
   "cell_type": "markdown",
   "metadata": {},
   "source": [
    "# Low-value Amounts"
   ]
  },
  {
   "cell_type": "code",
   "execution_count": 16,
   "metadata": {},
   "outputs": [],
   "source": [
    "lowvalue = df[(df['Amount'] >= 0.01) & (df['Amount'] <= 50)]\n",
    "lowvalue_list = []"
   ]
  },
  {
   "cell_type": "code",
   "execution_count": 17,
   "metadata": {},
   "outputs": [
    {
     "data": {
      "text/plain": [
       "[[43253.0, 22.82841610809099, 1188603.1, 0.2424347022245681]]"
      ]
     },
     "execution_count": 17,
     "metadata": {},
     "output_type": "execute_result"
    }
   ],
   "source": [
    "lowvalue_list = [[float(lowvalue['Amount'].count()), lowvalue['Amount'].count()/df['Amount'].count()*100, lowvalue['Amount'].sum(), lowvalue['Amount'].sum()/df['Amount'].sum()*100]]\n",
    "lowvalue_list"
   ]
  },
  {
   "cell_type": "code",
   "execution_count": 18,
   "metadata": {},
   "outputs": [
    {
     "data": {
      "text/html": [
       "<div>\n",
       "<style scoped>\n",
       "    .dataframe tbody tr th:only-of-type {\n",
       "        vertical-align: middle;\n",
       "    }\n",
       "\n",
       "    .dataframe tbody tr th {\n",
       "        vertical-align: top;\n",
       "    }\n",
       "\n",
       "    .dataframe thead th {\n",
       "        text-align: right;\n",
       "    }\n",
       "</style>\n",
       "<table border=\"1\" class=\"dataframe\">\n",
       "  <thead>\n",
       "    <tr style=\"text-align: right;\">\n",
       "      <th></th>\n",
       "      <th>Name</th>\n",
       "      <th>Count</th>\n",
       "      <th>% of Total Count</th>\n",
       "      <th>$</th>\n",
       "      <th>% of Total Sum</th>\n",
       "    </tr>\n",
       "  </thead>\n",
       "  <tbody>\n",
       "    <tr>\n",
       "      <th>0</th>\n",
       "      <td>Amounts 0.01 to 50.00</td>\n",
       "      <td>43,253.0</td>\n",
       "      <td>22.83</td>\n",
       "      <td>1,188,603.1</td>\n",
       "      <td>0.24</td>\n",
       "    </tr>\n",
       "  </tbody>\n",
       "</table>\n",
       "</div>"
      ],
      "text/plain": [
       "                    Name    Count  % of Total Count           $  \\\n",
       "0  Amounts 0.01 to 50.00 43,253.0             22.83 1,188,603.1   \n",
       "\n",
       "   % of Total Sum  \n",
       "0            0.24  "
      ]
     },
     "execution_count": 18,
     "metadata": {},
     "output_type": "execute_result"
    }
   ],
   "source": [
    "lowvalue_df = pd.DataFrame(lowvalue_list, columns=['Count', '% of Total Count', '$', '% of Total Sum'])\n",
    "lowvalue_df['Name'] = ['Amounts 0.01 to 50.00']\n",
    "lowvalue_df[['Name', 'Count', '% of Total Count', '$', '% of Total Sum']].round(2)"
   ]
  },
  {
   "cell_type": "markdown",
   "metadata": {},
   "source": [
    "# High-value Amounts"
   ]
  },
  {
   "cell_type": "code",
   "execution_count": 19,
   "metadata": {},
   "outputs": [],
   "source": [
    "highvalue = df[df['Amount'] >= 100000]\n",
    "highvalue_list = []"
   ]
  },
  {
   "cell_type": "code",
   "execution_count": 20,
   "metadata": {},
   "outputs": [
    {
     "data": {
      "text/plain": [
       "[[370, 0.1952815749195123, 242946614.32, 49.55286596437127]]"
      ]
     },
     "execution_count": 20,
     "metadata": {},
     "output_type": "execute_result"
    }
   ],
   "source": [
    "highvalue_list = [[highvalue['Amount'].count(), highvalue['Amount'].count()/df['Amount'].count()*100, highvalue['Amount'].sum(), highvalue['Amount'].sum()/df['Amount'].sum()*100]]\n",
    "highvalue_list"
   ]
  },
  {
   "cell_type": "code",
   "execution_count": 21,
   "metadata": {},
   "outputs": [
    {
     "data": {
      "text/html": [
       "<div>\n",
       "<style scoped>\n",
       "    .dataframe tbody tr th:only-of-type {\n",
       "        vertical-align: middle;\n",
       "    }\n",
       "\n",
       "    .dataframe tbody tr th {\n",
       "        vertical-align: top;\n",
       "    }\n",
       "\n",
       "    .dataframe thead th {\n",
       "        text-align: right;\n",
       "    }\n",
       "</style>\n",
       "<table border=\"1\" class=\"dataframe\">\n",
       "  <thead>\n",
       "    <tr style=\"text-align: right;\">\n",
       "      <th></th>\n",
       "      <th>Name</th>\n",
       "      <th>Count</th>\n",
       "      <th>% of Total Count</th>\n",
       "      <th>$</th>\n",
       "      <th>% of Total Sum</th>\n",
       "    </tr>\n",
       "  </thead>\n",
       "  <tbody>\n",
       "    <tr>\n",
       "      <th>0</th>\n",
       "      <td>Amounts 100,000 and higher</td>\n",
       "      <td>370</td>\n",
       "      <td>0.2</td>\n",
       "      <td>242,946,614.32</td>\n",
       "      <td>49.55</td>\n",
       "    </tr>\n",
       "  </tbody>\n",
       "</table>\n",
       "</div>"
      ],
      "text/plain": [
       "                         Name  Count  % of Total Count              $  \\\n",
       "0  Amounts 100,000 and higher    370               0.2 242,946,614.32   \n",
       "\n",
       "   % of Total Sum  \n",
       "0           49.55  "
      ]
     },
     "execution_count": 21,
     "metadata": {},
     "output_type": "execute_result"
    }
   ],
   "source": [
    "highvalue_df = pd.DataFrame(highvalue_list, columns=['Count', '% of Total Count', '$', '% of Total Sum'])\n",
    "highvalue_df['Name'] = ['Amounts 100,000 and higher']\n",
    "highvalue_df[['Name', 'Count', '% of Total Count', '$', '% of Total Sum']].round(2)"
   ]
  },
  {
   "cell_type": "markdown",
   "metadata": {},
   "source": [
    "## Data Profile"
   ]
  },
  {
   "cell_type": "code",
   "execution_count": 22,
   "metadata": {},
   "outputs": [
    {
     "data": {
      "text/html": [
       "<div>\n",
       "<style scoped>\n",
       "    .dataframe tbody tr th:only-of-type {\n",
       "        vertical-align: middle;\n",
       "    }\n",
       "\n",
       "    .dataframe tbody tr th {\n",
       "        vertical-align: top;\n",
       "    }\n",
       "\n",
       "    .dataframe thead th {\n",
       "        text-align: right;\n",
       "    }\n",
       "</style>\n",
       "<table border=\"1\" class=\"dataframe\">\n",
       "  <thead>\n",
       "    <tr style=\"text-align: right;\">\n",
       "      <th></th>\n",
       "      <th>Name</th>\n",
       "      <th>Count</th>\n",
       "      <th>% of Total Count</th>\n",
       "      <th>$</th>\n",
       "      <th>% of Total Sum</th>\n",
       "    </tr>\n",
       "  </thead>\n",
       "  <tbody>\n",
       "    <tr>\n",
       "      <th>0</th>\n",
       "      <td>Amounts 10.00 and over</td>\n",
       "      <td>177,763.0</td>\n",
       "      <td>93.82</td>\n",
       "      <td>492,913,582.26</td>\n",
       "      <td>100.54</td>\n",
       "    </tr>\n",
       "    <tr>\n",
       "      <th>1</th>\n",
       "      <td>Amounts 0.01 to 9.99</td>\n",
       "      <td>7,320.0</td>\n",
       "      <td>3.86</td>\n",
       "      <td>40,159.47</td>\n",
       "      <td>0.01</td>\n",
       "    </tr>\n",
       "    <tr>\n",
       "      <th>2</th>\n",
       "      <td>Amounts equal to zero</td>\n",
       "      <td>123.0</td>\n",
       "      <td>0.06</td>\n",
       "      <td>0.0</td>\n",
       "      <td>0.0</td>\n",
       "    </tr>\n",
       "    <tr>\n",
       "      <th>3</th>\n",
       "      <td>Amounts -0.01 to -9.99</td>\n",
       "      <td>195.0</td>\n",
       "      <td>0.1</td>\n",
       "      <td>-1,121.31</td>\n",
       "      <td>-0.0</td>\n",
       "    </tr>\n",
       "    <tr>\n",
       "      <th>4</th>\n",
       "      <td>Amounts -10.00 and under</td>\n",
       "      <td>4,069.0</td>\n",
       "      <td>2.15</td>\n",
       "      <td>-2,674,995.52</td>\n",
       "      <td>-0.55</td>\n",
       "    </tr>\n",
       "    <tr>\n",
       "      <th>5</th>\n",
       "      <td>NaN</td>\n",
       "      <td>189,470.0</td>\n",
       "      <td>100.0</td>\n",
       "      <td>490,277,624.9</td>\n",
       "      <td>100.0</td>\n",
       "    </tr>\n",
       "    <tr>\n",
       "      <th>0</th>\n",
       "      <td>Amounts 0.01 to 50.00</td>\n",
       "      <td>43,253.0</td>\n",
       "      <td>22.83</td>\n",
       "      <td>1,188,603.1</td>\n",
       "      <td>0.24</td>\n",
       "    </tr>\n",
       "    <tr>\n",
       "      <th>0</th>\n",
       "      <td>Amounts 100,000 and higher</td>\n",
       "      <td>370.0</td>\n",
       "      <td>0.2</td>\n",
       "      <td>242,946,614.32</td>\n",
       "      <td>49.55</td>\n",
       "    </tr>\n",
       "  </tbody>\n",
       "</table>\n",
       "</div>"
      ],
      "text/plain": [
       "                         Name     Count  % of Total Count              $  \\\n",
       "0      Amounts 10.00 and over 177,763.0             93.82 492,913,582.26   \n",
       "1        Amounts 0.01 to 9.99   7,320.0              3.86      40,159.47   \n",
       "2       Amounts equal to zero     123.0              0.06            0.0   \n",
       "3      Amounts -0.01 to -9.99     195.0               0.1      -1,121.31   \n",
       "4    Amounts -10.00 and under   4,069.0              2.15  -2,674,995.52   \n",
       "5                         NaN 189,470.0             100.0  490,277,624.9   \n",
       "0       Amounts 0.01 to 50.00  43,253.0             22.83    1,188,603.1   \n",
       "0  Amounts 100,000 and higher     370.0               0.2 242,946,614.32   \n",
       "\n",
       "   % of Total Sum  \n",
       "0          100.54  \n",
       "1            0.01  \n",
       "2             0.0  \n",
       "3            -0.0  \n",
       "4           -0.55  \n",
       "5           100.0  \n",
       "0            0.24  \n",
       "0           49.55  "
      ]
     },
     "execution_count": 22,
     "metadata": {},
     "output_type": "execute_result"
    }
   ],
   "source": [
    "dataprofile_df = pd.concat([detail_df, lowvalue_df])\n",
    "dataprofile_df = pd.concat([dataprofile_df, highvalue_df])\n",
    "dataprofile_df[['Name', 'Count', '% of Total Count', '$', '% of Total Sum']].round(2)"
   ]
  }
 ],
 "metadata": {
  "kernelspec": {
   "display_name": "Python 3",
   "language": "python",
   "name": "python3"
  },
  "language_info": {
   "codemirror_mode": {
    "name": "ipython",
    "version": 3
   },
   "file_extension": ".py",
   "mimetype": "text/x-python",
   "name": "python",
   "nbconvert_exporter": "python",
   "pygments_lexer": "ipython3",
   "version": "3.7.7"
  }
 },
 "nbformat": 4,
 "nbformat_minor": 4
}
